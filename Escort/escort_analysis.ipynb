{
 "cells": [
  {
   "cell_type": "markdown",
   "metadata": {},
   "source": [
    "# Imports and reading the data"
   ]
  },
  {
   "cell_type": "code",
   "execution_count": 29,
   "metadata": {},
   "outputs": [],
   "source": [
    "import networkx as nx\n",
    "import pandas as pd \n",
    "import matplotlib.pyplot as plt\n",
    "from collections import Counter\n",
    "import matplotlib.patches as mpatches \n",
    "import random\n",
    "from collections import defaultdict\n",
    "from shapely.geometry import Polygon"
   ]
  },
  {
   "cell_type": "code",
   "execution_count": 94,
   "metadata": {},
   "outputs": [
    {
     "data": {
      "text/html": [
       "<div>\n",
       "<style scoped>\n",
       "    .dataframe tbody tr th:only-of-type {\n",
       "        vertical-align: middle;\n",
       "    }\n",
       "\n",
       "    .dataframe tbody tr th {\n",
       "        vertical-align: top;\n",
       "    }\n",
       "\n",
       "    .dataframe thead th {\n",
       "        text-align: right;\n",
       "    }\n",
       "</style>\n",
       "<table border=\"1\" class=\"dataframe\">\n",
       "  <thead>\n",
       "    <tr style=\"text-align: right;\">\n",
       "      <th></th>\n",
       "      <th>n1</th>\n",
       "      <th>n2</th>\n",
       "      <th>e</th>\n",
       "    </tr>\n",
       "  </thead>\n",
       "  <tbody>\n",
       "    <tr>\n",
       "      <th>0</th>\n",
       "      <td>1</td>\n",
       "      <td>1</td>\n",
       "      <td>0</td>\n",
       "    </tr>\n",
       "    <tr>\n",
       "      <th>1</th>\n",
       "      <td>1</td>\n",
       "      <td>2</td>\n",
       "      <td>1</td>\n",
       "    </tr>\n",
       "    <tr>\n",
       "      <th>2</th>\n",
       "      <td>1</td>\n",
       "      <td>3</td>\n",
       "      <td>0</td>\n",
       "    </tr>\n",
       "    <tr>\n",
       "      <th>3</th>\n",
       "      <td>2</td>\n",
       "      <td>1</td>\n",
       "      <td>0</td>\n",
       "    </tr>\n",
       "    <tr>\n",
       "      <th>4</th>\n",
       "      <td>3</td>\n",
       "      <td>4</td>\n",
       "      <td>0</td>\n",
       "    </tr>\n",
       "    <tr>\n",
       "      <th>...</th>\n",
       "      <td>...</td>\n",
       "      <td>...</td>\n",
       "      <td>...</td>\n",
       "    </tr>\n",
       "    <tr>\n",
       "      <th>50627</th>\n",
       "      <td>8491</td>\n",
       "      <td>6621</td>\n",
       "      <td>0</td>\n",
       "    </tr>\n",
       "    <tr>\n",
       "      <th>50628</th>\n",
       "      <td>9136</td>\n",
       "      <td>6622</td>\n",
       "      <td>1</td>\n",
       "    </tr>\n",
       "    <tr>\n",
       "      <th>50629</th>\n",
       "      <td>6325</td>\n",
       "      <td>6456</td>\n",
       "      <td>1</td>\n",
       "    </tr>\n",
       "    <tr>\n",
       "      <th>50630</th>\n",
       "      <td>10105</td>\n",
       "      <td>6623</td>\n",
       "      <td>1</td>\n",
       "    </tr>\n",
       "    <tr>\n",
       "      <th>50631</th>\n",
       "      <td>10106</td>\n",
       "      <td>6624</td>\n",
       "      <td>-1</td>\n",
       "    </tr>\n",
       "  </tbody>\n",
       "</table>\n",
       "<p>50632 rows × 3 columns</p>\n",
       "</div>"
      ],
      "text/plain": [
       "          n1    n2  e\n",
       "0          1     1  0\n",
       "1          1     2  1\n",
       "2          1     3  0\n",
       "3          2     1  0\n",
       "4          3     4  0\n",
       "...      ...   ... ..\n",
       "50627   8491  6621  0\n",
       "50628   9136  6622  1\n",
       "50629   6325  6456  1\n",
       "50630  10105  6623  1\n",
       "50631  10106  6624 -1\n",
       "\n",
       "[50632 rows x 3 columns]"
      ]
     },
     "execution_count": 94,
     "metadata": {},
     "output_type": "execute_result"
    }
   ],
   "source": [
    "#reading the data\n",
    "df = pd.read_csv('escorts.txt', delim_whitespace=True, index_col=False)\n",
    "\n",
    "df_copy = df.copy()\n",
    "\n",
    "#creating new columns in df that adds: year, month and day\n",
    "df_copy['datetime'] = pd.to_datetime(df_copy['timestamp'], unit='s')\n",
    "\n",
    "df_copy['year'] = df_copy['datetime'].dt.year\n",
    "df_copy['month'] = df_copy['datetime'].dt.month\n",
    "df_copy['day'] = df_copy['datetime'].dt.day\n",
    "\n",
    "#dropping column datetime\n",
    "df_copy = df_copy.drop(columns=['datetime'])\n",
    "\n",
    "#getting rid of the timestamp\n",
    "df_no_time = df.drop('timestamp', axis=1)\n",
    "df_no_time.to_csv('escorts.csv', index =False, header=False)\n",
    "\n",
    "df_no_time\n"
   ]
  },
  {
   "cell_type": "markdown",
   "metadata": {},
   "source": [
    "### Creating graphs"
   ]
  },
  {
   "cell_type": "code",
   "execution_count": 95,
   "metadata": {},
   "outputs": [
    {
     "data": {
      "text/html": [
       "<div>\n",
       "<style scoped>\n",
       "    .dataframe tbody tr th:only-of-type {\n",
       "        vertical-align: middle;\n",
       "    }\n",
       "\n",
       "    .dataframe tbody tr th {\n",
       "        vertical-align: top;\n",
       "    }\n",
       "\n",
       "    .dataframe thead th {\n",
       "        text-align: right;\n",
       "    }\n",
       "</style>\n",
       "<table border=\"1\" class=\"dataframe\">\n",
       "  <thead>\n",
       "    <tr style=\"text-align: right;\">\n",
       "      <th></th>\n",
       "      <th>n1</th>\n",
       "      <th>n2</th>\n",
       "      <th>e</th>\n",
       "    </tr>\n",
       "  </thead>\n",
       "  <tbody>\n",
       "    <tr>\n",
       "      <th>0</th>\n",
       "      <td>a1</td>\n",
       "      <td>b1</td>\n",
       "      <td>0.0</td>\n",
       "    </tr>\n",
       "    <tr>\n",
       "      <th>1</th>\n",
       "      <td>a1</td>\n",
       "      <td>b1057</td>\n",
       "      <td>-1.0</td>\n",
       "    </tr>\n",
       "    <tr>\n",
       "      <th>2</th>\n",
       "      <td>a1</td>\n",
       "      <td>b12</td>\n",
       "      <td>0.0</td>\n",
       "    </tr>\n",
       "    <tr>\n",
       "      <th>3</th>\n",
       "      <td>a1</td>\n",
       "      <td>b130</td>\n",
       "      <td>-1.0</td>\n",
       "    </tr>\n",
       "    <tr>\n",
       "      <th>4</th>\n",
       "      <td>a1</td>\n",
       "      <td>b1340</td>\n",
       "      <td>-1.0</td>\n",
       "    </tr>\n",
       "    <tr>\n",
       "      <th>...</th>\n",
       "      <td>...</td>\n",
       "      <td>...</td>\n",
       "      <td>...</td>\n",
       "    </tr>\n",
       "    <tr>\n",
       "      <th>39039</th>\n",
       "      <td>a9996</td>\n",
       "      <td>b1503</td>\n",
       "      <td>1.0</td>\n",
       "    </tr>\n",
       "    <tr>\n",
       "      <th>39040</th>\n",
       "      <td>a9997</td>\n",
       "      <td>b125</td>\n",
       "      <td>1.0</td>\n",
       "    </tr>\n",
       "    <tr>\n",
       "      <th>39041</th>\n",
       "      <td>a9998</td>\n",
       "      <td>b1569</td>\n",
       "      <td>1.0</td>\n",
       "    </tr>\n",
       "    <tr>\n",
       "      <th>39042</th>\n",
       "      <td>a9998</td>\n",
       "      <td>b4791</td>\n",
       "      <td>1.0</td>\n",
       "    </tr>\n",
       "    <tr>\n",
       "      <th>39043</th>\n",
       "      <td>a9999</td>\n",
       "      <td>b6051</td>\n",
       "      <td>1.0</td>\n",
       "    </tr>\n",
       "  </tbody>\n",
       "</table>\n",
       "<p>39044 rows × 3 columns</p>\n",
       "</div>"
      ],
      "text/plain": [
       "          n1     n2    e\n",
       "0         a1     b1  0.0\n",
       "1         a1  b1057 -1.0\n",
       "2         a1    b12  0.0\n",
       "3         a1   b130 -1.0\n",
       "4         a1  b1340 -1.0\n",
       "...      ...    ...  ...\n",
       "39039  a9996  b1503  1.0\n",
       "39040  a9997   b125  1.0\n",
       "39041  a9998  b1569  1.0\n",
       "39042  a9998  b4791  1.0\n",
       "39043  a9999  b6051  1.0\n",
       "\n",
       "[39044 rows x 3 columns]"
      ]
     },
     "execution_count": 95,
     "metadata": {},
     "output_type": "execute_result"
    }
   ],
   "source": [
    "#creating different IDs for buyers(a) and escorts(b), so the nx function could read it\n",
    "df_no_time['n1'] = 'a' + df_no_time['n1'].astype(str)\n",
    "\n",
    "df_no_time['n2'] = 'b' + df_no_time['n2'].astype(str)\n",
    "\n",
    "#collapsing the edges where one buyer rated the same girl more than 1 time\n",
    "main_df = df_no_time.groupby(['n1', 'n2'], as_index=False).mean() #yes, it creates the means if they went to more than one escort\n",
    "main_df\n"
   ]
  },
  {
   "cell_type": "code",
   "execution_count": 6,
   "metadata": {},
   "outputs": [],
   "source": [
    "#projecting the bipartite graph using vectorized projection\n",
    "G = nx.from_pandas_edgelist(main_df, 'n1', 'n2', 'e')\n",
    "\n",
    "#projecting onto the escorts\n",
    "proj_G = nx.bipartite.weighted_projected_graph(G, nodes = main_df.n2.unique(), ratio=True) #ratio is number of common neighbors devided by number of buyers\n",
    "\n",
    "#projecting onto the buyers\n",
    "proj_G_b = nx.bipartite.weighted_projected_graph(G, nodes = main_df.n1.unique(), ratio=True)"
   ]
  },
  {
   "cell_type": "markdown",
   "metadata": {},
   "source": [
    "# Basic network analysis"
   ]
  },
  {
   "cell_type": "markdown",
   "metadata": {},
   "source": [
    "### On the bipartite network"
   ]
  },
  {
   "cell_type": "code",
   "execution_count": 7,
   "metadata": {},
   "outputs": [
    {
     "name": "stdout",
     "output_type": "stream",
     "text": [
      "Unique edge count: 39044\n",
      "Total number of nodes: 16730\n",
      "Numbers of buyers: 10106\n",
      "Numbers of escorts: 6624\n",
      "Total number of rows: 50632\n",
      "Is the network connected? False\n",
      "Average rating: 0.743\n"
     ]
    }
   ],
   "source": [
    "#finding unique number of buyers and escorts\n",
    "buyers = df.n1.unique().tolist()\n",
    "escorts = df.n2.unique().tolist()\n",
    "\n",
    "print(f'Unique edge count: {G.size()}')\n",
    "print(f'Total number of nodes: {G.number_of_nodes()}')\n",
    "print(f'Numbers of buyers: {len(buyers)}')\n",
    "print(f'Numbers of escorts: {len(escorts)}')\n",
    "print(f'Total number of rows: {df_no_time.shape[0]}') #num of encounters\n",
    "print(f'Is the network connected? {nx.is_connected(G)}') \n",
    "\n",
    "avg_rating = round(float(df_no_time['e'].mean()), 3)\n",
    "print(f'Average rating: {avg_rating}') #most of them satisfied ;)"
   ]
  },
  {
   "cell_type": "code",
   "execution_count": 8,
   "metadata": {},
   "outputs": [
    {
     "name": "stdout",
     "output_type": "stream",
     "text": [
      "38540\n",
      "Number of unique edges are out of the LCC: 504\n"
     ]
    }
   ],
   "source": [
    "#Largest Connected Component\n",
    "Gcc = sorted(nx.connected_components(G), key=len, reverse=True)\n",
    "LCC = G.subgraph(Gcc[0])\n",
    "print(LCC.size())\n",
    "print(f'Number of unique edges are out of the LCC: {G.size() - LCC.size()}')"
   ]
  },
  {
   "cell_type": "code",
   "execution_count": 9,
   "metadata": {},
   "outputs": [],
   "source": [
    "#finding most popular buyers(biggest amount of payments) and escorts(how many times visited)\n",
    "#we need to observe that the escorts that had less buyers and had rating of 1, will have better scores than the most visited ones\n",
    "#so we need to normalize it\n",
    "\n",
    "#on df_no_time, because it contains the edges before collapsing them\n",
    "\n",
    "#Making dataframe of popular buyers and popular escorts\n",
    "pop_buyers = df_no_time['n1'].value_counts().reset_index()\n",
    "pop_escorts = df_no_time['n2'].value_counts().reset_index()\n",
    "\n",
    "#Making list of the 10 most popular buyers\n",
    "b_top10 = pop_buyers['index'].head(10).tolist()\n",
    " \n",
    "#Making list of the 10 most popular escorts\n",
    "e_top10 = pop_escorts['index'].head(10).tolist()"
   ]
  },
  {
   "cell_type": "code",
   "execution_count": 31,
   "metadata": {},
   "outputs": [
    {
     "data": {
      "text/plain": [
       "['a2283',\n",
       " 'a244',\n",
       " 'a4205',\n",
       " 'a617',\n",
       " 'a1443',\n",
       " 'a2873',\n",
       " 'a1223',\n",
       " 'a8047',\n",
       " 'a3348',\n",
       " 'a1084']"
      ]
     },
     "execution_count": 31,
     "metadata": {},
     "output_type": "execute_result"
    }
   ],
   "source": [
    "b_top10"
   ]
  },
  {
   "cell_type": "code",
   "execution_count": 10,
   "metadata": {},
   "outputs": [
    {
     "name": "stdout",
     "output_type": "stream",
     "text": [
      "{'b11': 0.98, 'b1565': 0.992, 'b1443': 0.96, 'b41': 0.942, 'b1345': 0.968, 'b2845': 0.977, 'b2470': 0.98, 'b1569': 0.953, 'b2799': 0.983, 'b503': 0.955}\n"
     ]
    }
   ],
   "source": [
    "\n",
    "#Dictionary of average rating of most vistied escorts (top 10 degrees)\n",
    "#Key: ID of escort\n",
    "#Value: Average rating\n",
    "avg = {}\n",
    "for escort in e_top10:\n",
    "    most_pop_esc = df_no_time[df_no_time['n2'] == escort]\n",
    "    ratings = most_pop_esc['e'].tolist()\n",
    "    avg[escort] = round(sum(ratings)/len(ratings), 3)\n",
    "\n",
    "print(avg)"
   ]
  },
  {
   "cell_type": "code",
   "execution_count": 11,
   "metadata": {},
   "outputs": [
    {
     "name": "stdout",
     "output_type": "stream",
     "text": [
      "Average degree of buyers: 5.01\n",
      "Average degree of escorts: 7.644\n"
     ]
    }
   ],
   "source": [
    "#Average degrees\n",
    "\n",
    "avg_d_b = round(float(pop_buyers['n1'].mean()), 3)\n",
    "print(f'Average degree of buyers: {avg_d_b}') #how many ratings they've given\n",
    "\n",
    "avg_d_e = round(float(pop_escorts['n2'].mean()), 3)\n",
    "print(f'Average degree of escorts: {avg_d_e}') #how many times they've been rated"
   ]
  },
  {
   "cell_type": "markdown",
   "metadata": {},
   "source": [
    "### On the projections"
   ]
  },
  {
   "cell_type": "code",
   "execution_count": 12,
   "metadata": {},
   "outputs": [
    {
     "name": "stdout",
     "output_type": "stream",
     "text": [
      "Numbers of singletons: 385\n"
     ]
    }
   ],
   "source": [
    "#number of singletons\n",
    "degrees = nx.degree(proj_G)\n",
    "\n",
    "n = 0\n",
    "for key, value in degrees:\n",
    "    if value == 0:\n",
    "        n += 1\n",
    "print(f'Numbers of singletons: {n}')"
   ]
  },
  {
   "cell_type": "code",
   "execution_count": 13,
   "metadata": {},
   "outputs": [
    {
     "name": "stdout",
     "output_type": "stream",
     "text": [
      "183465\n",
      "6624\n",
      "0.008363886718878218\n"
     ]
    }
   ],
   "source": [
    "#basic network analysis on projected network\n",
    "# proj_G.size() #num of edges\n",
    "print(proj_G.number_of_edges())\n",
    "print(proj_G.number_of_nodes())\n",
    "\n",
    "#density it's a range 0-1\n",
    "print(nx.density(proj_G)) #quite sparse "
   ]
  },
  {
   "cell_type": "code",
   "execution_count": 14,
   "metadata": {},
   "outputs": [
    {
     "name": "stdout",
     "output_type": "stream",
     "text": [
      "9.895111814763506e-05\n",
      "0.059637838907579656\n"
     ]
    }
   ],
   "source": [
    "# idea: in order to create more fair rating of escorts (normalize the retings) average the weights of edges of a specific node and\n",
    "# use it as a weights to use on averaged rating on the node.\n",
    "# this doesn't work, because it'd favor the most visited nodes\n",
    "\n",
    "x = (len(G) - len(main_df.n2.unique())) #ratio=True when we project th network\n",
    "rat1 = 1/x\n",
    "rat600 = 615/x\n",
    "\n",
    "#example scores\n",
    "print(1*rat1)\n",
    "print(0.98*rat600)"
   ]
  },
  {
   "cell_type": "markdown",
   "metadata": {},
   "source": [
    "### Laplace's Rule of Succesion "
   ]
  },
  {
   "cell_type": "code",
   "execution_count": 15,
   "metadata": {},
   "outputs": [],
   "source": [
    "# Define Laplace's Rule of Succession function with weighted ratings\n",
    "def laplace_rule_of_succession(df, rating_weights={'positive': 1, 'neutral': 0.5, 'negative': -1}):\n",
    "    # Calculate the total number of reviews for each escort\n",
    "    reviews_count = df.groupby('n2')['e'].count().reset_index()\n",
    "    reviews_count.rename(columns={'e': 'TotalReviews'}, inplace=True)\n",
    "\n",
    "    # Calculate the total weight for each escort\n",
    "    weighted_reviews = df.groupby(['n2'])['e'].sum().reset_index()\n",
    "    weighted_reviews.rename(columns={'e': 'TotalWeight'}, inplace=True)\n",
    "\n",
    "    # Merge the weight information back into the main dataframe\n",
    "    df = pd.merge(df, reviews_count, on='n2', how='left')\n",
    "    df = pd.merge(df, weighted_reviews, on='n2', how='left')\n",
    "\n",
    "    # Calculate Laplace-adjusted ratings with weighted ratings\n",
    "    df['LaplaceAdjustedRating'] = (df['TotalWeight'] + rating_weights['positive']) / (df['TotalReviews'] + sum(rating_weights.values()))\n",
    "\n",
    "    return df\n",
    "\n"
   ]
  },
  {
   "cell_type": "code",
   "execution_count": 16,
   "metadata": {},
   "outputs": [
    {
     "data": {
      "text/html": [
       "<div>\n",
       "<style scoped>\n",
       "    .dataframe tbody tr th:only-of-type {\n",
       "        vertical-align: middle;\n",
       "    }\n",
       "\n",
       "    .dataframe tbody tr th {\n",
       "        vertical-align: top;\n",
       "    }\n",
       "\n",
       "    .dataframe thead th {\n",
       "        text-align: right;\n",
       "    }\n",
       "</style>\n",
       "<table border=\"1\" class=\"dataframe\">\n",
       "  <thead>\n",
       "    <tr style=\"text-align: right;\">\n",
       "      <th></th>\n",
       "      <th>n1</th>\n",
       "      <th>n2</th>\n",
       "      <th>e</th>\n",
       "      <th>TotalReviews</th>\n",
       "      <th>TotalWeight</th>\n",
       "      <th>LaplaceAdjustedRating</th>\n",
       "    </tr>\n",
       "  </thead>\n",
       "  <tbody>\n",
       "    <tr>\n",
       "      <th>0</th>\n",
       "      <td>a1</td>\n",
       "      <td>b1</td>\n",
       "      <td>0.0</td>\n",
       "      <td>47</td>\n",
       "      <td>18.50</td>\n",
       "      <td>0.410526</td>\n",
       "    </tr>\n",
       "    <tr>\n",
       "      <th>1</th>\n",
       "      <td>a1</td>\n",
       "      <td>b1057</td>\n",
       "      <td>-1.0</td>\n",
       "      <td>83</td>\n",
       "      <td>65.25</td>\n",
       "      <td>0.793413</td>\n",
       "    </tr>\n",
       "    <tr>\n",
       "      <th>2</th>\n",
       "      <td>a1</td>\n",
       "      <td>b12</td>\n",
       "      <td>0.0</td>\n",
       "      <td>85</td>\n",
       "      <td>65.00</td>\n",
       "      <td>0.771930</td>\n",
       "    </tr>\n",
       "    <tr>\n",
       "      <th>3</th>\n",
       "      <td>a1</td>\n",
       "      <td>b130</td>\n",
       "      <td>-1.0</td>\n",
       "      <td>16</td>\n",
       "      <td>-9.00</td>\n",
       "      <td>-0.484848</td>\n",
       "    </tr>\n",
       "    <tr>\n",
       "      <th>4</th>\n",
       "      <td>a1</td>\n",
       "      <td>b1340</td>\n",
       "      <td>-1.0</td>\n",
       "      <td>63</td>\n",
       "      <td>46.00</td>\n",
       "      <td>0.740157</td>\n",
       "    </tr>\n",
       "    <tr>\n",
       "      <th>...</th>\n",
       "      <td>...</td>\n",
       "      <td>...</td>\n",
       "      <td>...</td>\n",
       "      <td>...</td>\n",
       "      <td>...</td>\n",
       "      <td>...</td>\n",
       "    </tr>\n",
       "    <tr>\n",
       "      <th>39039</th>\n",
       "      <td>a9996</td>\n",
       "      <td>b1503</td>\n",
       "      <td>1.0</td>\n",
       "      <td>36</td>\n",
       "      <td>28.00</td>\n",
       "      <td>0.794521</td>\n",
       "    </tr>\n",
       "    <tr>\n",
       "      <th>39040</th>\n",
       "      <td>a9997</td>\n",
       "      <td>b125</td>\n",
       "      <td>1.0</td>\n",
       "      <td>22</td>\n",
       "      <td>22.00</td>\n",
       "      <td>1.022222</td>\n",
       "    </tr>\n",
       "    <tr>\n",
       "      <th>39041</th>\n",
       "      <td>a9998</td>\n",
       "      <td>b1569</td>\n",
       "      <td>1.0</td>\n",
       "      <td>270</td>\n",
       "      <td>252.00</td>\n",
       "      <td>0.935305</td>\n",
       "    </tr>\n",
       "    <tr>\n",
       "      <th>39042</th>\n",
       "      <td>a9998</td>\n",
       "      <td>b4791</td>\n",
       "      <td>1.0</td>\n",
       "      <td>22</td>\n",
       "      <td>21.00</td>\n",
       "      <td>0.977778</td>\n",
       "    </tr>\n",
       "    <tr>\n",
       "      <th>39043</th>\n",
       "      <td>a9999</td>\n",
       "      <td>b6051</td>\n",
       "      <td>1.0</td>\n",
       "      <td>10</td>\n",
       "      <td>8.00</td>\n",
       "      <td>0.857143</td>\n",
       "    </tr>\n",
       "  </tbody>\n",
       "</table>\n",
       "<p>39044 rows × 6 columns</p>\n",
       "</div>"
      ],
      "text/plain": [
       "          n1     n2    e  TotalReviews  TotalWeight  LaplaceAdjustedRating\n",
       "0         a1     b1  0.0            47        18.50               0.410526\n",
       "1         a1  b1057 -1.0            83        65.25               0.793413\n",
       "2         a1    b12  0.0            85        65.00               0.771930\n",
       "3         a1   b130 -1.0            16        -9.00              -0.484848\n",
       "4         a1  b1340 -1.0            63        46.00               0.740157\n",
       "...      ...    ...  ...           ...          ...                    ...\n",
       "39039  a9996  b1503  1.0            36        28.00               0.794521\n",
       "39040  a9997   b125  1.0            22        22.00               1.022222\n",
       "39041  a9998  b1569  1.0           270       252.00               0.935305\n",
       "39042  a9998  b4791  1.0            22        21.00               0.977778\n",
       "39043  a9999  b6051  1.0            10         8.00               0.857143\n",
       "\n",
       "[39044 rows x 6 columns]"
      ]
     },
     "execution_count": 16,
     "metadata": {},
     "output_type": "execute_result"
    }
   ],
   "source": [
    "df_test = laplace_rule_of_succession(main_df)\n",
    "df_test"
   ]
  },
  {
   "cell_type": "markdown",
   "metadata": {},
   "source": [
    "## Degree distribution"
   ]
  },
  {
   "cell_type": "code",
   "execution_count": 17,
   "metadata": {},
   "outputs": [],
   "source": [
    "#degrees in the bipartite network\n",
    "bi_escorts_degrees = Counter(main_df['n2'])\n",
    "\n",
    "bi_buyers_degrees = Counter(main_df['n1'])\n",
    "\n",
    "#degrees in the projected\n",
    "escorts_degrees = dict(proj_G.degree())\n",
    "buyers_degrees = dict(proj_G_b.degree())"
   ]
  },
  {
   "cell_type": "code",
   "execution_count": 18,
   "metadata": {},
   "outputs": [
    {
     "data": {
      "image/png": "[encoded data removed]",
      "text/plain": [
       "<Figure size 432x288 with 4 Axes>"
      ]
     },
     "metadata": {
      "needs_background": "light"
     },
     "output_type": "display_data"
    }
   ],
   "source": [
    "#Plotting degree distribution\n",
    "fig, ax = plt.subplots(2, 2)\n",
    "\n",
    "ax[0, 0].hist(bi_escorts_degrees.values(), bins=60, alpha=0.5, label='Escorts', color='#FFAA75')\n",
    "ax[0,0].set_xscale('log')\n",
    "\n",
    "ax[0, 1].hist(bi_buyers_degrees.values(), bins=60, alpha=0.5, label='Buyers', color = '#9C5FFF')\n",
    "ax[0,1].set_xscale('log')\n",
    "\n",
    "ax3 = ax[1, 0].hist(escorts_degrees.values(), bins=60, alpha=0.5, label='Escorts', color ='#FFAA75')\n",
    "ax[1,0].set_xscale('log')\n",
    "\n",
    "ax4 = ax[1, 1].hist(buyers_degrees.values(), bins=60, alpha=0.5, label='Buyers', color = '#9C5FFF')\n",
    "ax[1,1].set_xscale('log')\n",
    "\n",
    "fig.supxlabel('Degree')\n",
    "fig.supylabel('Frequency')\n",
    "\n",
    "green_patch = mpatches.Patch(color='#FFAA75', label='Escorts') \n",
    "blue_patch = mpatches.Patch(color='#9C5FFF', label='Buyers') \n",
    "fig.legend(handles=[green_patch, blue_patch], loc='upper right') \n",
    "ax[0,0].set_title('In the bipartite network', loc='left')\n",
    "ax[1,0].set_title('In the network projected onto escorts', loc='left')\n",
    "fig.suptitle('Degree distribution')\n",
    "fig.subplots_adjust(hspace=0.7, top=0.85)\n",
    "\n",
    "plt.show()"
   ]
  },
  {
   "cell_type": "markdown",
   "metadata": {},
   "source": [
    "### Cumulative degree distribution"
   ]
  },
  {
   "cell_type": "code",
   "execution_count": 19,
   "metadata": {},
   "outputs": [],
   "source": [
    "degree_sequence = sorted([d for n, d in G.degree()], reverse=True) #the degree of each nod"
   ]
  },
  {
   "cell_type": "code",
   "execution_count": 20,
   "metadata": {},
   "outputs": [],
   "source": [
    "# accumulating the degrees from highest to lowest\n",
    "cumulative_degrees = [degree_sequence[:i].count(degree) for i, degree in enumerate(degree_sequence)]"
   ]
  },
  {
   "cell_type": "code",
   "execution_count": 21,
   "metadata": {},
   "outputs": [
    {
     "data": {
      "image/png": "[encoded data removed]",
      "text/plain": [
       "<Figure size 432x288 with 1 Axes>"
      ]
     },
     "metadata": {
      "needs_background": "light"
     },
     "output_type": "display_data"
    }
   ],
   "source": [
    "plt.plot(degree_sequence, cumulative_degrees, marker='o')\n",
    "plt.xlabel(\"Degree\")\n",
    "plt.ylabel(\"Cumulative Degree Distribution\")\n",
    "plt.title(\"Cumulative Degree Distribution\")\n",
    "plt.grid(True)\n",
    "plt.show()"
   ]
  },
  {
   "cell_type": "markdown",
   "metadata": {},
   "source": [
    "# Calculating centralities to detect the hubs of the network"
   ]
  },
  {
   "cell_type": "markdown",
   "metadata": {},
   "source": [
    "### Degree centrality"
   ]
  },
  {
   "cell_type": "code",
   "execution_count": 22,
   "metadata": {},
   "outputs": [
    {
     "ename": "NameError",
     "evalue": "name 'peri' is not defined",
     "output_type": "error",
     "traceback": [
      "\u001b[0;31m---------------------------------------------------------------------------\u001b[0m",
      "\u001b[0;31mNameError\u001b[0m                                 Traceback (most recent call last)",
      "\u001b[1;32m/Users/chris/Desktop/ITU/3rdsem/NA/Network-Analysis/Escort/escort_analysis.ipynb Cell 30\u001b[0m in \u001b[0;36m<cell line: 6>\u001b[0;34m()\u001b[0m\n\u001b[1;32m      <a href='vscode-notebook-cell:/Users/chris/Desktop/ITU/3rdsem/NA/Network-Analysis/Escort/escort_analysis.ipynb#X41sZmlsZQ%3D%3D?line=3'>4</a>\u001b[0m d_c_sorted \u001b[39m=\u001b[39m {k: v \u001b[39mfor\u001b[39;00m k, v \u001b[39min\u001b[39;00m \u001b[39msorted\u001b[39m(d_cent\u001b[39m.\u001b[39mitems(), key\u001b[39m=\u001b[39m\u001b[39mlambda\u001b[39;00m item: item[\u001b[39m1\u001b[39m], reverse\u001b[39m=\u001b[39m\u001b[39mTrue\u001b[39;00m)[:\u001b[39m10\u001b[39m]}\n\u001b[1;32m      <a href='vscode-notebook-cell:/Users/chris/Desktop/ITU/3rdsem/NA/Network-Analysis/Escort/escort_analysis.ipynb#X41sZmlsZQ%3D%3D?line=4'>5</a>\u001b[0m peri1 \u001b[39m=\u001b[39m {k: v \u001b[39mfor\u001b[39;00m k, v \u001b[39min\u001b[39;00m \u001b[39msorted\u001b[39m(d_cent\u001b[39m.\u001b[39mitems(), key\u001b[39m=\u001b[39m\u001b[39mlambda\u001b[39;00m item: item[\u001b[39m1\u001b[39m], reverse\u001b[39m=\u001b[39m\u001b[39mFalse\u001b[39;00m)\u001b[39mif\u001b[39;00m v \u001b[39m>\u001b[39m\u001b[39m0\u001b[39m}\n\u001b[0;32m----> <a href='vscode-notebook-cell:/Users/chris/Desktop/ITU/3rdsem/NA/Network-Analysis/Escort/escort_analysis.ipynb#X41sZmlsZQ%3D%3D?line=5'>6</a>\u001b[0m peri \u001b[39m=\u001b[39m {k: v \u001b[39mfor\u001b[39;00m k, v \u001b[39min\u001b[39;00m \u001b[39msorted\u001b[39m(peri\u001b[39m.\u001b[39mitems(), key\u001b[39m=\u001b[39m\u001b[39mlambda\u001b[39;00m item: item[\u001b[39m1\u001b[39m], reverse\u001b[39m=\u001b[39m\u001b[39mFalse\u001b[39;00m)[:\u001b[39m10\u001b[39m]}\n",
      "\u001b[0;31mNameError\u001b[0m: name 'peri' is not defined"
     ]
    }
   ],
   "source": [
    "d_cent = nx.degree_centrality(proj_G)\n",
    "\n",
    "#top 10\n",
    "d_c_sorted = {k: v for k, v in sorted(d_cent.items(), key=lambda item: item[1], reverse=True)[:10]}\n",
    "peri1 = {k: v for k, v in sorted(d_cent.items(), key=lambda item: item[1], reverse=False)if v >0}\n",
    "peri = {k: v for k, v in sorted(peri.items(), key=lambda item: item[1], reverse=False)[:10]}"
   ]
  },
  {
   "cell_type": "markdown",
   "metadata": {},
   "source": [
    "### Betweenness centrality"
   ]
  },
  {
   "cell_type": "code",
   "execution_count": null,
   "metadata": {},
   "outputs": [],
   "source": [
    "b_cent = nx.betweenness_centrality(proj_G, k=1000)\n",
    "\n",
    "#top 10\n",
    "b_c_sorted = {k: v for k, v in sorted(b_cent.items(), key=lambda item: item[1], reverse=True)[:10]}"
   ]
  },
  {
   "cell_type": "markdown",
   "metadata": {},
   "source": [
    "### Closeness centrality"
   ]
  },
  {
   "cell_type": "code",
   "execution_count": 24,
   "metadata": {},
   "outputs": [
    {
     "ename": "KeyboardInterrupt",
     "evalue": "",
     "output_type": "error",
     "traceback": [
      "\u001b[0;31m---------------------------------------------------------------------------\u001b[0m",
      "\u001b[0;31mKeyboardInterrupt\u001b[0m                         Traceback (most recent call last)",
      "\u001b[1;32m/Users/chris/Desktop/ITU/3rdsem/NA/Network-Analysis/Escort/escort_analysis.ipynb Cell 34\u001b[0m in \u001b[0;36m<cell line: 1>\u001b[0;34m()\u001b[0m\n\u001b[0;32m----> <a href='vscode-notebook-cell:/Users/chris/Desktop/ITU/3rdsem/NA/Network-Analysis/Escort/escort_analysis.ipynb#X45sZmlsZQ%3D%3D?line=0'>1</a>\u001b[0m c_cent \u001b[39m=\u001b[39m nx\u001b[39m.\u001b[39;49mcloseness_centrality(proj_G)\n\u001b[1;32m      <a href='vscode-notebook-cell:/Users/chris/Desktop/ITU/3rdsem/NA/Network-Analysis/Escort/escort_analysis.ipynb#X45sZmlsZQ%3D%3D?line=2'>3</a>\u001b[0m \u001b[39m#top 10\u001b[39;00m\n\u001b[1;32m      <a href='vscode-notebook-cell:/Users/chris/Desktop/ITU/3rdsem/NA/Network-Analysis/Escort/escort_analysis.ipynb#X45sZmlsZQ%3D%3D?line=3'>4</a>\u001b[0m c_c_sorted \u001b[39m=\u001b[39m {k: v \u001b[39mfor\u001b[39;00m k, v \u001b[39min\u001b[39;00m \u001b[39msorted\u001b[39m(c_cent\u001b[39m.\u001b[39mitems(), key\u001b[39m=\u001b[39m\u001b[39mlambda\u001b[39;00m item: item[\u001b[39m1\u001b[39m], reverse\u001b[39m=\u001b[39m\u001b[39mTrue\u001b[39;00m)[:\u001b[39m10\u001b[39m]}\n",
      "File \u001b[0;32m~/opt/anaconda3/lib/python3.9/site-packages/networkx/algorithms/centrality/closeness.py:113\u001b[0m, in \u001b[0;36mcloseness_centrality\u001b[0;34m(G, u, distance, wf_improved)\u001b[0m\n\u001b[1;32m    111\u001b[0m closeness_centrality \u001b[39m=\u001b[39m {}\n\u001b[1;32m    112\u001b[0m \u001b[39mfor\u001b[39;00m n \u001b[39min\u001b[39;00m nodes:\n\u001b[0;32m--> 113\u001b[0m     sp \u001b[39m=\u001b[39m path_length(G, n)\n\u001b[1;32m    114\u001b[0m     totsp \u001b[39m=\u001b[39m \u001b[39msum\u001b[39m(sp\u001b[39m.\u001b[39mvalues())\n\u001b[1;32m    115\u001b[0m     len_G \u001b[39m=\u001b[39m \u001b[39mlen\u001b[39m(G)\n",
      "File \u001b[0;32m~/opt/anaconda3/lib/python3.9/site-packages/networkx/algorithms/shortest_paths/unweighted.py:59\u001b[0m, in \u001b[0;36msingle_source_shortest_path_length\u001b[0;34m(G, source, cutoff)\u001b[0m\n\u001b[1;32m     57\u001b[0m     cutoff \u001b[39m=\u001b[39m \u001b[39mfloat\u001b[39m(\u001b[39m\"\u001b[39m\u001b[39minf\u001b[39m\u001b[39m\"\u001b[39m)\n\u001b[1;32m     58\u001b[0m nextlevel \u001b[39m=\u001b[39m {source: \u001b[39m1\u001b[39m}\n\u001b[0;32m---> 59\u001b[0m \u001b[39mreturn\u001b[39;00m \u001b[39mdict\u001b[39;49m(_single_shortest_path_length(G\u001b[39m.\u001b[39;49madj, nextlevel, cutoff))\n",
      "File \u001b[0;32m~/opt/anaconda3/lib/python3.9/site-packages/networkx/algorithms/shortest_paths/unweighted.py:91\u001b[0m, in \u001b[0;36m_single_shortest_path_length\u001b[0;34m(adj, firstlevel, cutoff)\u001b[0m\n\u001b[1;32m     89\u001b[0m         \u001b[39mreturn\u001b[39;00m\n\u001b[1;32m     90\u001b[0m     \u001b[39mfor\u001b[39;00m v \u001b[39min\u001b[39;00m found:\n\u001b[0;32m---> 91\u001b[0m         nextlevel\u001b[39m.\u001b[39;49mupdate(adj[v])\n\u001b[1;32m     92\u001b[0m     level \u001b[39m+\u001b[39m\u001b[39m=\u001b[39m \u001b[39m1\u001b[39m\n\u001b[1;32m     93\u001b[0m \u001b[39mdel\u001b[39;00m seen\n",
      "\u001b[0;31mKeyboardInterrupt\u001b[0m: "
     ]
    }
   ],
   "source": [
    "c_cent = nx.closeness_centrality(proj_G)\n",
    "\n",
    "#top 10\n",
    "c_c_sorted = {k: v for k, v in sorted(c_cent.items(), key=lambda item: item[1], reverse=True)[:10]}"
   ]
  },
  {
   "cell_type": "code",
   "execution_count": 25,
   "metadata": {},
   "outputs": [
    {
     "name": "stderr",
     "output_type": "stream",
     "text": [
      "/Users/chris/opt/anaconda3/lib/python3.9/site-packages/networkx/algorithms/link_analysis/hits_alg.py:78: FutureWarning: adjacency_matrix will return a scipy.sparse array instead of a matrix in Networkx 3.0.\n",
      "  A = nx.adjacency_matrix(G, nodelist=list(G), dtype=float)\n"
     ]
    },
    {
     "ename": "AttributeError",
     "evalue": "module 'scipy.sparse' has no attribute 'coo_array'",
     "output_type": "error",
     "traceback": [
      "\u001b[0;31m---------------------------------------------------------------------------\u001b[0m",
      "\u001b[0;31mAttributeError\u001b[0m                            Traceback (most recent call last)",
      "\u001b[1;32m/Users/chris/Desktop/ITU/3rdsem/NA/Network-Analysis/Escort/escort_analysis.ipynb Cell 35\u001b[0m in \u001b[0;36m<cell line: 2>\u001b[0;34m()\u001b[0m\n\u001b[1;32m      <a href='vscode-notebook-cell:/Users/chris/Desktop/ITU/3rdsem/NA/Network-Analysis/Escort/escort_analysis.ipynb#X46sZmlsZQ%3D%3D?line=0'>1</a>\u001b[0m \u001b[39m#the algorithm was designed for directed graph, but it gives us some idea of hubs\u001b[39;00m\n\u001b[0;32m----> <a href='vscode-notebook-cell:/Users/chris/Desktop/ITU/3rdsem/NA/Network-Analysis/Escort/escort_analysis.ipynb#X46sZmlsZQ%3D%3D?line=1'>2</a>\u001b[0m hity \u001b[39m=\u001b[39m nx\u001b[39m.\u001b[39;49mhits(proj_G)\n\u001b[1;32m      <a href='vscode-notebook-cell:/Users/chris/Desktop/ITU/3rdsem/NA/Network-Analysis/Escort/escort_analysis.ipynb#X46sZmlsZQ%3D%3D?line=2'>3</a>\u001b[0m hity \u001b[39m=\u001b[39m \u001b[39mdict\u001b[39m(hity[\u001b[39m0\u001b[39m])\n\u001b[1;32m      <a href='vscode-notebook-cell:/Users/chris/Desktop/ITU/3rdsem/NA/Network-Analysis/Escort/escort_analysis.ipynb#X46sZmlsZQ%3D%3D?line=4'>5</a>\u001b[0m \u001b[39m#top 10\u001b[39;00m\n",
      "File \u001b[0;32m~/opt/anaconda3/lib/python3.9/site-packages/networkx/algorithms/link_analysis/hits_alg.py:78\u001b[0m, in \u001b[0;36mhits\u001b[0;34m(G, max_iter, tol, nstart, normalized)\u001b[0m\n\u001b[1;32m     76\u001b[0m \u001b[39mif\u001b[39;00m \u001b[39mlen\u001b[39m(G) \u001b[39m==\u001b[39m \u001b[39m0\u001b[39m:\n\u001b[1;32m     77\u001b[0m     \u001b[39mreturn\u001b[39;00m {}, {}\n\u001b[0;32m---> 78\u001b[0m A \u001b[39m=\u001b[39m nx\u001b[39m.\u001b[39;49madjacency_matrix(G, nodelist\u001b[39m=\u001b[39;49m\u001b[39mlist\u001b[39;49m(G), dtype\u001b[39m=\u001b[39;49m\u001b[39mfloat\u001b[39;49m)\n\u001b[1;32m     80\u001b[0m \u001b[39mif\u001b[39;00m nstart \u001b[39mis\u001b[39;00m \u001b[39mNone\u001b[39;00m:\n\u001b[1;32m     81\u001b[0m     _, _, vt \u001b[39m=\u001b[39m sp\u001b[39m.\u001b[39msparse\u001b[39m.\u001b[39mlinalg\u001b[39m.\u001b[39msvds(A, k\u001b[39m=\u001b[39m\u001b[39m1\u001b[39m, maxiter\u001b[39m=\u001b[39mmax_iter, tol\u001b[39m=\u001b[39mtol)\n",
      "File \u001b[0;32m~/opt/anaconda3/lib/python3.9/site-packages/networkx/linalg/graphmatrix.py:173\u001b[0m, in \u001b[0;36madjacency_matrix\u001b[0;34m(G, nodelist, dtype, weight)\u001b[0m\n\u001b[1;32m    167\u001b[0m warnings\u001b[39m.\u001b[39mwarn(\n\u001b[1;32m    168\u001b[0m     \u001b[39m\"\u001b[39m\u001b[39madjacency_matrix will return a scipy.sparse array instead of a matrix in Networkx 3.0.\u001b[39m\u001b[39m\"\u001b[39m,\n\u001b[1;32m    169\u001b[0m     \u001b[39mFutureWarning\u001b[39;00m,\n\u001b[1;32m    170\u001b[0m     stacklevel\u001b[39m=\u001b[39m\u001b[39m2\u001b[39m,\n\u001b[1;32m    171\u001b[0m )\n\u001b[1;32m    172\u001b[0m \u001b[39m# TODO: Change to `to_scipy_sparse_array` for networkx 3.0\u001b[39;00m\n\u001b[0;32m--> 173\u001b[0m \u001b[39mreturn\u001b[39;00m nx\u001b[39m.\u001b[39;49mto_scipy_sparse_matrix(G, nodelist\u001b[39m=\u001b[39;49mnodelist, dtype\u001b[39m=\u001b[39;49mdtype, weight\u001b[39m=\u001b[39;49mweight)\n",
      "File \u001b[0;32m~/opt/anaconda3/lib/python3.9/site-packages/networkx/convert_matrix.py:1019\u001b[0m, in \u001b[0;36mto_scipy_sparse_matrix\u001b[0;34m(G, nodelist, dtype, weight, format)\u001b[0m\n\u001b[1;32m   1009\u001b[0m \u001b[39mimport\u001b[39;00m \u001b[39mscipy\u001b[39;00m\u001b[39m.\u001b[39;00m\u001b[39msparse\u001b[39;00m\n\u001b[1;32m   1011\u001b[0m warnings\u001b[39m.\u001b[39mwarn(\n\u001b[1;32m   1012\u001b[0m     (\n\u001b[1;32m   1013\u001b[0m         \u001b[39m\"\u001b[39m\u001b[39m\\n\u001b[39;00m\u001b[39m\\n\u001b[39;00m\u001b[39mThe scipy.sparse array containers will be used instead of matrices\u001b[39m\u001b[39m\\n\u001b[39;00m\u001b[39m\"\u001b[39m\n\u001b[0;32m   (...)\u001b[0m\n\u001b[1;32m   1017\u001b[0m     stacklevel\u001b[39m=\u001b[39m\u001b[39m2\u001b[39m,\n\u001b[1;32m   1018\u001b[0m )\n\u001b[0;32m-> 1019\u001b[0m A \u001b[39m=\u001b[39m to_scipy_sparse_array(\n\u001b[1;32m   1020\u001b[0m     G, nodelist\u001b[39m=\u001b[39;49mnodelist, dtype\u001b[39m=\u001b[39;49mdtype, weight\u001b[39m=\u001b[39;49mweight, \u001b[39mformat\u001b[39;49m\u001b[39m=\u001b[39;49m\u001b[39mformat\u001b[39;49m\n\u001b[1;32m   1021\u001b[0m )\n\u001b[1;32m   1022\u001b[0m \u001b[39mreturn\u001b[39;00m sp\u001b[39m.\u001b[39msparse\u001b[39m.\u001b[39mcsr_matrix(A)\u001b[39m.\u001b[39masformat(\u001b[39mformat\u001b[39m)\n",
      "File \u001b[0;32m~/opt/anaconda3/lib/python3.9/site-packages/networkx/convert_matrix.py:921\u001b[0m, in \u001b[0;36mto_scipy_sparse_array\u001b[0;34m(G, nodelist, dtype, weight, format)\u001b[0m\n\u001b[1;32m    919\u001b[0m         r \u001b[39m+\u001b[39m\u001b[39m=\u001b[39m diag_index\n\u001b[1;32m    920\u001b[0m         c \u001b[39m+\u001b[39m\u001b[39m=\u001b[39m diag_index\n\u001b[0;32m--> 921\u001b[0m     A \u001b[39m=\u001b[39m sp\u001b[39m.\u001b[39;49msparse\u001b[39m.\u001b[39;49mcoo_array((d, (r, c)), shape\u001b[39m=\u001b[39m(nlen, nlen), dtype\u001b[39m=\u001b[39mdtype)\n\u001b[1;32m    922\u001b[0m \u001b[39mtry\u001b[39;00m:\n\u001b[1;32m    923\u001b[0m     \u001b[39mreturn\u001b[39;00m A\u001b[39m.\u001b[39masformat(\u001b[39mformat\u001b[39m)\n",
      "\u001b[0;31mAttributeError\u001b[0m: module 'scipy.sparse' has no attribute 'coo_array'"
     ]
    }
   ],
   "source": [
    "#the algorithm was designed for directed graph, but it gives us some idea of hubs\n",
    "hity = nx.hits(proj_G)\n",
    "hity = dict(hity[0])\n",
    "\n",
    "#top 10\n",
    "hits_sorted = {k: v for k, v in sorted(hity.items(), key=lambda item: item[1], reverse=True)[:10]}"
   ]
  },
  {
   "cell_type": "code",
   "execution_count": 26,
   "metadata": {},
   "outputs": [
    {
     "ename": "NameError",
     "evalue": "name 'b_c_sorted' is not defined",
     "output_type": "error",
     "traceback": [
      "\u001b[0;31m---------------------------------------------------------------------------\u001b[0m",
      "\u001b[0;31mNameError\u001b[0m                                 Traceback (most recent call last)",
      "\u001b[1;32m/Users/chris/Desktop/ITU/3rdsem/NA/Network-Analysis/Escort/escort_analysis.ipynb Cell 36\u001b[0m in \u001b[0;36m<cell line: 2>\u001b[0;34m()\u001b[0m\n\u001b[1;32m      <a href='vscode-notebook-cell:/Users/chris/Desktop/ITU/3rdsem/NA/Network-Analysis/Escort/escort_analysis.ipynb#X50sZmlsZQ%3D%3D?line=0'>1</a>\u001b[0m \u001b[39m# Merging all 4 hub detection techniques to find unique hubs they present\u001b[39;00m\n\u001b[0;32m----> <a href='vscode-notebook-cell:/Users/chris/Desktop/ITU/3rdsem/NA/Network-Analysis/Escort/escort_analysis.ipynb#X50sZmlsZQ%3D%3D?line=1'>2</a>\u001b[0m hubs \u001b[39m=\u001b[39m \u001b[39mlist\u001b[39m(b_c_sorted\u001b[39m.\u001b[39mkeys()) \u001b[39m+\u001b[39m \u001b[39mlist\u001b[39m(d_c_sorted\u001b[39m.\u001b[39mkeys()) \u001b[39m+\u001b[39m \u001b[39mlist\u001b[39m(c_c_sorted\u001b[39m.\u001b[39mkeys()) \u001b[39m+\u001b[39m \u001b[39mlist\u001b[39m(hits_sorted\u001b[39m.\u001b[39mkeys())\n\u001b[1;32m      <a href='vscode-notebook-cell:/Users/chris/Desktop/ITU/3rdsem/NA/Network-Analysis/Escort/escort_analysis.ipynb#X50sZmlsZQ%3D%3D?line=2'>3</a>\u001b[0m hubs \u001b[39m=\u001b[39m \u001b[39mset\u001b[39m(hubs)\n\u001b[1;32m      <a href='vscode-notebook-cell:/Users/chris/Desktop/ITU/3rdsem/NA/Network-Analysis/Escort/escort_analysis.ipynb#X50sZmlsZQ%3D%3D?line=3'>4</a>\u001b[0m \u001b[39mlen\u001b[39m(hubs)\n",
      "\u001b[0;31mNameError\u001b[0m: name 'b_c_sorted' is not defined"
     ]
    }
   ],
   "source": [
    "\n",
    "# Merging all 4 hub detection techniques to find unique hubs they present\n",
    "hubs = list(b_c_sorted.keys()) + list(d_c_sorted.keys()) + list(c_c_sorted.keys()) + list(hits_sorted.keys())\n",
    "hubs = set(hubs)\n",
    "len(hubs)"
   ]
  },
  {
   "cell_type": "markdown",
   "metadata": {},
   "source": [
    "# Community detection"
   ]
  },
  {
   "cell_type": "code",
   "execution_count": 27,
   "metadata": {},
   "outputs": [
    {
     "ename": "KeyboardInterrupt",
     "evalue": "",
     "output_type": "error",
     "traceback": [
      "\u001b[0;31m---------------------------------------------------------------------------\u001b[0m",
      "\u001b[0;31mKeyboardInterrupt\u001b[0m                         Traceback (most recent call last)",
      "\u001b[1;32m/Users/chris/Desktop/ITU/3rdsem/NA/Network-Analysis/Escort/escort_analysis.ipynb Cell 38\u001b[0m in \u001b[0;36m<cell line: 3>\u001b[0;34m()\u001b[0m\n\u001b[1;32m      <a href='vscode-notebook-cell:/Users/chris/Desktop/ITU/3rdsem/NA/Network-Analysis/Escort/escort_analysis.ipynb#X52sZmlsZQ%3D%3D?line=0'>1</a>\u001b[0m \u001b[39m#Community Detection\u001b[39;00m\n\u001b[1;32m      <a href='vscode-notebook-cell:/Users/chris/Desktop/ITU/3rdsem/NA/Network-Analysis/Escort/escort_analysis.ipynb#X52sZmlsZQ%3D%3D?line=1'>2</a>\u001b[0m lab_prop \u001b[39m=\u001b[39m nx\u001b[39m.\u001b[39mcommunity\u001b[39m.\u001b[39mlabel_propagation_communities(proj_G)\n\u001b[0;32m----> <a href='vscode-notebook-cell:/Users/chris/Desktop/ITU/3rdsem/NA/Network-Analysis/Escort/escort_analysis.ipynb#X52sZmlsZQ%3D%3D?line=2'>3</a>\u001b[0m modularity \u001b[39m=\u001b[39m nx\u001b[39m.\u001b[39;49mcommunity\u001b[39m.\u001b[39;49mgreedy_modularity_communities(proj_G)\n\u001b[1;32m      <a href='vscode-notebook-cell:/Users/chris/Desktop/ITU/3rdsem/NA/Network-Analysis/Escort/escort_analysis.ipynb#X52sZmlsZQ%3D%3D?line=4'>5</a>\u001b[0m listed_lab \u001b[39m=\u001b[39m \u001b[39mlist\u001b[39m(lab_prop)\n\u001b[1;32m      <a href='vscode-notebook-cell:/Users/chris/Desktop/ITU/3rdsem/NA/Network-Analysis/Escort/escort_analysis.ipynb#X52sZmlsZQ%3D%3D?line=5'>6</a>\u001b[0m listed_lab\u001b[39m.\u001b[39msort(key\u001b[39m=\u001b[39m\u001b[39mlen\u001b[39m, reverse\u001b[39m=\u001b[39m\u001b[39mTrue\u001b[39;00m)\n",
      "File \u001b[0;32m~/opt/anaconda3/lib/python3.9/site-packages/networkx/algorithms/community/modularity_max.py:181\u001b[0m, in \u001b[0;36mgreedy_modularity_communities\u001b[0;34m(G, weight, resolution, n_communities)\u001b[0m\n\u001b[1;32m    179\u001b[0m \u001b[39m# Save old max of per-row heap\u001b[39;00m\n\u001b[1;32m    180\u001b[0m \u001b[39mif\u001b[39;00m \u001b[39mlen\u001b[39m(dq_heap_row) \u001b[39m>\u001b[39m \u001b[39m0\u001b[39m:\n\u001b[0;32m--> 181\u001b[0m     d_oldmax \u001b[39m=\u001b[39m dq_heap_row\u001b[39m.\u001b[39;49mheap[\u001b[39m0\u001b[39;49m]\n\u001b[1;32m    182\u001b[0m \u001b[39melse\u001b[39;00m:\n\u001b[1;32m    183\u001b[0m     d_oldmax \u001b[39m=\u001b[39m \u001b[39mNone\u001b[39;00m\n",
      "\u001b[0;31mKeyboardInterrupt\u001b[0m: "
     ]
    }
   ],
   "source": [
    "#Community Detection\n",
    "lab_prop = nx.community.label_propagation_communities(proj_G)\n",
    "modularity = nx.community.greedy_modularity_communities(proj_G)\n",
    "\n",
    "listed_lab = list(lab_prop)\n",
    "listed_lab.sort(key=len, reverse=True)"
   ]
  },
  {
   "cell_type": "code",
   "execution_count": null,
   "metadata": {},
   "outputs": [
    {
     "name": "stdout",
     "output_type": "stream",
     "text": [
      "1969\n",
      "1360\n",
      "1296\n",
      "797\n",
      "679\n",
      "20\n",
      "9\n",
      "8\n",
      "7\n",
      "5\n",
      "5\n",
      "4\n",
      "_________________________\n",
      "2583\n",
      "988\n",
      "621\n",
      "497\n",
      "391\n",
      "382\n",
      "225\n",
      "167\n",
      "21\n",
      "16\n",
      "12\n",
      "9\n"
     ]
    }
   ],
   "source": [
    "#number of nodes in each community\n",
    "for i in range(12):\n",
    "    print(len(modularity[i]))\n",
    "\n",
    "print(\"_________________________\")\n",
    "\n",
    "for i in range(12):\n",
    "    print(len(listed_lab[i]))"
   ]
  },
  {
   "attachments": {},
   "cell_type": "markdown",
   "metadata": {},
   "source": [
    "## PURE AND PROTECTED SEX"
   ]
  },
  {
   "cell_type": "code",
   "execution_count": 96,
   "metadata": {},
   "outputs": [],
   "source": [
    "## PURE RAW SEX\n",
    "#CONSTANT INFECTION RATE 0.365\n",
    "seed = 27\n",
    "\n",
    "# 1. updating all edges in bipartite network to have 0.365\n",
    "df_constant = main_df.copy()\n",
    "df_constant.loc[df_constant['e'] < 2, 'e'] = 0.365\n",
    "\n",
    "# 2. Assign random/constant probability of wearing condom on all the male buyers. Change infection rate (edgeweight) according to this.\n",
    "import random\n",
    "\n",
    "dic_condoms = {}\n",
    "male_buyers = df_constant['n1'].unique().tolist()\n",
    "\n",
    "for buyer in male_buyers:\n",
    "    p_or_n = random.randint(0,1)\n",
    "    dic_condoms[buyer] = p_or_n\n",
    "\n",
    "df_condoms = df_constant.copy()\n",
    "\n",
    "for key, value in dic_condoms.items():\n",
    "    if value == 1:\n",
    "        df_condoms.loc[df_condoms['n1'] == key, 'e'] = 0.365*(1-0.8)\n",
    "    "
   ]
  },
  {
   "attachments": {},
   "cell_type": "markdown",
   "metadata": {},
   "source": [
    "## FUNCTION TO DISTRIBUTE CONDOMS TO CERTAIN MALES"
   ]
  },
  {
   "cell_type": "code",
   "execution_count": 77,
   "metadata": {},
   "outputs": [],
   "source": [
    "def give_condom(df, buyers_list):\n",
    "    '''\n",
    "    Function that gives condom to all the buyers in buyers_list\n",
    "    and returns the DataFrame with updated edge\n",
    "    '''\n",
    "\n",
    "\n",
    "    mask = df['n1'].isin(buyers_list)\n",
    "    df.loc[mask, 'e'] = 0.365*(1-0.8)\n",
    "\n",
    "    return df"
   ]
  },
  {
   "cell_type": "code",
   "execution_count": 78,
   "metadata": {},
   "outputs": [],
   "source": [
    "import operator\n",
    "def count_unique_person2(df):\n",
    "    \"\"\"\n",
    "    Count the unique person2 for each person1 and return a dictionary.\n",
    "\n",
    "    Parameters:\n",
    "    - df: pandas DataFrame with columns 'person1' and 'person2'\n",
    "\n",
    "    Returns:\n",
    "    - Dictionary with person1 as key and the count of unique person2 as value\n",
    "    \"\"\"\n",
    "\n",
    "    # Group by 'person1' and count unique values in 'person2' for each group\n",
    "    result_df = df.groupby('n1')['n2'].nunique().reset_index()\n",
    "\n",
    "    # Convert the result to a dictionary\n",
    "    result_dict = dict(zip(result_df['n1'], result_df['n2']))\n",
    "    sorted_result_dict = dict(sorted(result_dict.items(), key=operator.itemgetter(1), reverse=True))\n",
    "\n",
    "\n",
    "    return sorted_result_dict\n",
    "\n",
    "top_b_links = count_unique_person2(df_no_time)"
   ]
  },
  {
   "attachments": {},
   "cell_type": "markdown",
   "metadata": {},
   "source": [
    "## Degree Centrality for buyers"
   ]
  },
  {
   "cell_type": "code",
   "execution_count": 124,
   "metadata": {},
   "outputs": [],
   "source": [
    "#PENIS\n",
    "d_cent_b = nx.bipartite.degree_centrality(G, nodes = df_no_time.n1.unique())\n",
    "filtered_d = {key: value for key, value in d_cent_b.items() if key.startswith('a')}\n",
    "# d_c_b_sorted = {k: v for k, v in sorted(filtered_d.items(), key=lambda item: item[1], reverse=True)}\n",
    "\n",
    "half = int(len(filtered_d)/2)\n",
    "\n",
    "top_half = {k: v for k, v in sorted(filtered_d.items(), key=lambda item: item[1], reverse=True)[:half]}\n",
    "bottom_half = {k: v for k, v in sorted(filtered_d.items(), key=lambda item: item[1], reverse=True)[half:]}\n",
    "\n",
    "# b_cent_b = nx.bipartite.betweenness_centrality(G, nodes = df_no_time.n1.unique())\n",
    "# filtered_b = {key: value for key, value in b_cent_b.items() if key.startswith('a')}\n",
    "# b_c_b_sorted = {k: v for k, v in sorted(filtered_b.items(), key=lambda item: item[1], reverse=True)[:10]}\n",
    "# print(b_c_b_sorted.keys())\n",
    "\n",
    "# c_cent_b = nx.bipartite.closeness_centrality(G, nodes = df_no_time.n1.unique())\n",
    "# filtered_c = {key: value for key, value in c_cent_b.items() if key.startswith('a')}\n",
    "# c_c_b_sorted = {k: v for k, v in sorted(filtered_c.items(), key=lambda item: item[1], reverse=True)[:10]}\n",
    "# print(c_c_b_sorted.keys())\n",
    "\n",
    "\n",
    "\n",
    "# Merging all 4 hub detection techniques to find unique hubs they present\n",
    "# hubs = list(b_c_sorted.keys()) + list(d_c_sorted.keys()) + list(c_c_sorted.keys()) + list(hits_sorted.keys())\n",
    "# hubs = set(hubs)\n",
    "# len(hubs)\n",
    "\n",
    "\n"
   ]
  },
  {
   "cell_type": "code",
   "execution_count": 125,
   "metadata": {},
   "outputs": [],
   "source": [
    "df_tophalf_condoms = give_condom(df_constant.copy(), list(top_half))\n",
    "df_bottomhalf_condoms = give_condom(df_constant.copy(), list(bottom_half))\n"
   ]
  },
  {
   "cell_type": "code",
   "execution_count": 126,
   "metadata": {},
   "outputs": [],
   "source": [
    "#projecting graph with custom weights between escorts\n",
    "G_b_top = nx.from_pandas_edgelist(df_tophalf_condoms, 'n1', 'n2', 'e')\n",
    "pG_b_top = nx.bipartite.generic_weighted_projected_graph(G_b_top, nodes = df_tophalf_condoms.n2.unique(), weight_function= weightz)\n",
    "\n"
   ]
  },
  {
   "cell_type": "code",
   "execution_count": 127,
   "metadata": {},
   "outputs": [],
   "source": [
    "#projecting graph with custom weights between escorts\n",
    "G_b_bottom = nx.from_pandas_edgelist(df_bottomhalf_condoms, 'n1', 'n2', 'e')\n",
    "pG_b_bottom = nx.bipartite.generic_weighted_projected_graph(G_b_top, nodes = df_bottomhalf_condoms.n2.unique(), weight_function= weightz)"
   ]
  },
  {
   "cell_type": "code",
   "execution_count": 107,
   "metadata": {},
   "outputs": [],
   "source": [
    "# Our simple SI function.\n",
    "def si_simple(B, i_nodes):\n",
    "   #so we can perform graph functions\n",
    "   G = nx.Graph()\n",
    "   G.graph.update(B.graph)\n",
    "   G.add_nodes_from((n, B.nodes[n]) for n in B.nodes)\n",
    "   \n",
    "   new_infected = i_nodes.copy()\n",
    "   for i_node in i_nodes:\n",
    "        s_neighbors_of_i = {n for n in B.neighbors(i_node)}\n",
    "        if len(s_neighbors_of_i) == 0:\n",
    "            pass\n",
    "        for s_node in s_neighbors_of_i:\n",
    "            beta = B.get_edge_data(i_node, s_node, default=0)['weight'] #probability of spreading the disease\n",
    "            if random.random() < beta:\n",
    "                new_infected.add(s_node)\n",
    "   return new_infected"
   ]
  },
  {
   "cell_type": "code",
   "execution_count": 128,
   "metadata": {},
   "outputs": [],
   "source": [
    "model_curve = defaultdict(lambda : defaultdict(float))\n",
    "for run in range(10):\n",
    "   # The seed set should be the same for both models\n",
    "   i_nodes_top = set(random.sample(list(set(pG_b_top.nodes)), 3))\n",
    "   i_nodes_bottom = i_nodes_top.copy()\n",
    "   for step in range(50):\n",
    "      i_nodes_top = si_simple(pG_b_top, i_nodes_top)\n",
    "      i_nodes_bottom = si_simple(pG_b_bottom, i_nodes_bottom)\n",
    "      # Since we run 10 times, we average the infected set size\n",
    "      model_curve[\"top\"][step] += (len(i_nodes_top) / len(pG_b_top.nodes)) * 10\n",
    "      model_curve[\"bottom\"][step] += (len(i_nodes_bottom) / len(pG_b_bottom.nodes)) * 10\n",
    "      model_curve['condoms_S'][step] = 100 - model_curve[\"condoms\"][step]"
   ]
  },
  {
   "cell_type": "code",
   "execution_count": 129,
   "metadata": {},
   "outputs": [
    {
     "data": {
      "image/png": "[encoded data removed]",
      "text/plain": [
       "<Figure size 432x288 with 1 Axes>"
      ]
     },
     "metadata": {
      "needs_background": "light"
     },
     "output_type": "display_data"
    }
   ],
   "source": [
    "plt.plot([model_curve[\"top\"][step] for step in range(30)], color = 'c', label = 'top')\n",
    "plt.plot([model_curve[\"bottom\"][step] for step in range(30)], color = 'r', label = 'bottom')\n",
    "plt.ylabel('Percentage of infected escorts')\n",
    "plt.xlabel('Number of steps')\n",
    "plt.fill_between(range(30), [model_curve[\"top\"][step] for step in range(30)], [model_curve[\"bottom\"][step] for step in range(30)], color ='#FAF7E1')\n",
    "plt.xscale('symlog')\n",
    "green_patch = mpatches.Patch(color='c', label='top') \n",
    "blue_patch = mpatches.Patch(color='r', label='bottom') \n",
    "plt.legend(handles=[green_patch, blue_patch], loc='lower right')\n",
    "plt.show()"
   ]
  },
  {
   "cell_type": "markdown",
   "metadata": {},
   "source": [
    "# Analyzing the spread of STD"
   ]
  },
  {
   "cell_type": "code",
   "execution_count": 99,
   "metadata": {},
   "outputs": [],
   "source": [
    "def weightz(G, u, v):\n",
    "    ''' \n",
    "    Assigns weights to the edges in the projected graph based on the average weight of edges between\n",
    "    u, v and their common neighbors in the original graph.\n",
    "\n",
    "    Arguments:\n",
    "        G : graph\n",
    "            A NetworkX undirected bipartite graph.\n",
    "\n",
    "        u, v : nodes\n",
    "            Nodes in the graph.\n",
    "\n",
    "    Returns:\n",
    "        w: float\n",
    "\n",
    "    Raises:\n",
    "        NetworkXError\n",
    "            If u or v is not a node in the graph.\n",
    "    '''\n",
    "    if u not in G:\n",
    "        raise nx.NetworkXError(\"u is not in the graph.\")\n",
    "    if v not in G:\n",
    "        raise nx.NetworkXError(\"v is not in the graph.\")\n",
    "\n",
    "    w = 0\n",
    "    nbrs = nx.common_neighbors(G, u, v)\n",
    "    for i, n in enumerate(nbrs):\n",
    "        w += G.get_edge_data(u, n).get('e')\n",
    "        w += G.get_edge_data(v, n).get('e')\n",
    "    w = w/(2*(i+1))\n",
    "    return w\n",
    "    "
   ]
  },
  {
   "cell_type": "code",
   "execution_count": null,
   "metadata": {},
   "outputs": [],
   "source": [
    "#projecting graph with custom weights between escorts\n",
    "G_condoms = nx.from_pandas_edgelist(df_condoms, 'n1', 'n2', 'e')\n",
    "pG_condoms = nx.bipartite.generic_weighted_projected_graph(G_condoms, nodes = main_df.n2.unique(), weight_function=weightz)\n"
   ]
  },
  {
   "cell_type": "code",
   "execution_count": null,
   "metadata": {},
   "outputs": [],
   "source": [
    "#projecting graph with custom weights between escorts\n",
    "G_raw = nx.from_pandas_edgelist(df_constant, 'n1', 'n2', 'e')\n",
    "pG_raw = nx.bipartite.generic_weighted_projected_graph(G_raw, nodes = main_df.n2.unique(), weight_function=weightz)\n"
   ]
  },
  {
   "cell_type": "markdown",
   "metadata": {},
   "source": [
    "## SI model"
   ]
  },
  {
   "cell_type": "code",
   "execution_count": null,
   "metadata": {},
   "outputs": [],
   "source": [
    "# Our simple SI function.\n",
    "def si_simple(B, i_nodes):\n",
    "   #so we can perform graph functions\n",
    "   G = nx.Graph()\n",
    "   G.graph.update(B.graph)\n",
    "   G.add_nodes_from((n, B.nodes[n]) for n in B.nodes)\n",
    "   \n",
    "   new_infected = i_nodes.copy()\n",
    "   for i_node in i_nodes:\n",
    "        s_neighbors_of_i = {n for n in B.neighbors(i_node)}\n",
    "        if len(s_neighbors_of_i) == 0:\n",
    "            pass\n",
    "        for s_node in s_neighbors_of_i:\n",
    "            beta = B.get_edge_data(i_node, s_node, default=0)['weight'] #probability of spreading the disease\n",
    "            if random.random() < beta:\n",
    "                new_infected.add(s_node)\n",
    "   return new_infected"
   ]
  },
  {
   "cell_type": "code",
   "execution_count": null,
   "metadata": {},
   "outputs": [],
   "source": [
    "model_curve = defaultdict(lambda : defaultdict(float))\n",
    "for run in range(10):\n",
    "   # The seed set should be the same for both models\n",
    "   i_nodes_condoms = set(random.sample(list(set(pG_condoms.nodes)), 3))\n",
    "   i_nodes_raw = i_nodes_condoms.copy()\n",
    "   for step in range(50):\n",
    "      i_nodes_condoms = si_simple(pG_condoms, i_nodes_condoms)\n",
    "      i_nodes_raw = si_simple(pG_raw, i_nodes_raw)\n",
    "      # Since we run 10 times, we average the infected set size\n",
    "      model_curve[\"condoms\"][step] += (len(i_nodes_condoms) / len(pG_condoms.nodes)) * 10\n",
    "      model_curve[\"raw\"][step] += (len(i_nodes_raw) / len(pG_raw.nodes)) * 10\n",
    "      model_curve['condoms_S'][step] = 100 - model_curve[\"condoms\"][step]"
   ]
  },
  {
   "cell_type": "code",
   "execution_count": null,
   "metadata": {},
   "outputs": [
    {
     "name": "stdout",
     "output_type": "stream",
     "text": [
      "Max possible percentage of infected nodes 94.19%\n"
     ]
    }
   ],
   "source": [
    "degrees = nx.degree(pG_condoms)\n",
    "\n",
    "n = 0\n",
    "for key, value in degrees:\n",
    "    if value == 0:\n",
    "        n += 1\n",
    "\n",
    "max_infected = round(100-(n/len(pG_condoms.nodes)*100),2)\n",
    "print(f'Max possible percentage of infected nodes {max_infected}%')"
   ]
  },
  {
   "cell_type": "code",
   "execution_count": null,
   "metadata": {},
   "outputs": [
    {
     "ename": "NameError",
     "evalue": "name 'model_curve' is not defined",
     "output_type": "error",
     "traceback": [
      "\u001b[0;31m---------------------------------------------------------------------------\u001b[0m",
      "\u001b[0;31mNameError\u001b[0m                                 Traceback (most recent call last)",
      "\u001b[1;32m/Users/chris/Desktop/ITU/3rdsem/NA/Network-Analysis/Escort/escort_analysis.ipynb Cell 50\u001b[0m in \u001b[0;36m<cell line: 14>\u001b[0;34m()\u001b[0m\n\u001b[1;32m     <a href='vscode-notebook-cell:/Users/chris/Desktop/ITU/3rdsem/NA/Network-Analysis/Escort/escort_analysis.ipynb#Y100sZmlsZQ%3D%3D?line=10'>11</a>\u001b[0m             \u001b[39mbreak\u001b[39;00m\n\u001b[1;32m     <a href='vscode-notebook-cell:/Users/chris/Desktop/ITU/3rdsem/NA/Network-Analysis/Escort/escort_analysis.ipynb#Y100sZmlsZQ%3D%3D?line=11'>12</a>\u001b[0m     \u001b[39mreturn\u001b[39;00m k1\u001b[39m/\u001b[39mk2\n\u001b[0;32m---> <a href='vscode-notebook-cell:/Users/chris/Desktop/ITU/3rdsem/NA/Network-Analysis/Escort/escort_analysis.ipynb#Y100sZmlsZQ%3D%3D?line=13'>14</a>\u001b[0m speed \u001b[39m=\u001b[39m \u001b[39mround\u001b[39m(whos_faster(model_curve[\u001b[39m'\u001b[39m\u001b[39mcondoms\u001b[39m\u001b[39m'\u001b[39m], model_curve[\u001b[39m'\u001b[39m\u001b[39mraw\u001b[39m\u001b[39m'\u001b[39m]),\u001b[39m3\u001b[39m)\n\u001b[1;32m     <a href='vscode-notebook-cell:/Users/chris/Desktop/ITU/3rdsem/NA/Network-Analysis/Escort/escort_analysis.ipynb#Y100sZmlsZQ%3D%3D?line=14'>15</a>\u001b[0m \u001b[39mprint\u001b[39m(\u001b[39mf\u001b[39m\u001b[39m'\u001b[39m\u001b[39mRaw model was \u001b[39m\u001b[39m{\u001b[39;00mspeed\u001b[39m}\u001b[39;00m\u001b[39m times faster than Condom model in reaching 92% infection rate.\u001b[39m\u001b[39m'\u001b[39m)\n",
      "\u001b[0;31mNameError\u001b[0m: name 'model_curve' is not defined"
     ]
    }
   ],
   "source": [
    "#we can see that after reaching 92% infected nodes increase very slowly, so we use that to compare\n",
    "def whos_faster(model1, model2):\n",
    "    k1 = 0\n",
    "    for k,v in model1.items():\n",
    "        if v>92:\n",
    "            k1=k\n",
    "            break\n",
    "    for k,v in model2.items():\n",
    "        if v>92:\n",
    "            k2=k\n",
    "            break\n",
    "    return k1/k2\n",
    "\n",
    "speed = round(whos_faster(model_curve['condoms'], model_curve['raw']),3)\n",
    "print(f'Raw model was {speed} times faster than Condom model in reaching 92% infection rate.')"
   ]
  },
  {
   "cell_type": "code",
   "execution_count": null,
   "metadata": {},
   "outputs": [
    {
     "data": {
      "image/png": "[encoded data removed]",
      "text/plain": [
       "<Figure size 640x480 with 1 Axes>"
      ]
     },
     "metadata": {},
     "output_type": "display_data"
    }
   ],
   "source": [
    "plt.plot([model_curve[\"condoms\"][step] for step in range(30)], color = 'c', label = 'Condoms')\n",
    "plt.plot([model_curve[\"raw\"][step] for step in range(30)], color = 'r', label = 'Raw')\n",
    "plt.ylabel('Percentage of infected escorts')\n",
    "plt.xlabel('Number of steps')\n",
    "plt.fill_between(range(30), [model_curve[\"condoms\"][step] for step in range(30)], [model_curve[\"raw\"][step] for step in range(30)], color ='#FAF7E1')\n",
    "plt.xscale('symlog')\n",
    "green_patch = mpatches.Patch(color='c', label='Condoms') \n",
    "blue_patch = mpatches.Patch(color='r', label='Raw') \n",
    "plt.legend(handles=[green_patch, blue_patch], loc='lower right')\n",
    "plt.show()"
   ]
  },
  {
   "cell_type": "code",
   "execution_count": null,
   "metadata": {},
   "outputs": [
    {
     "data": {
      "image/png": "[encoded data removed]",
      "text/plain": [
       "<Figure size 640x480 with 1 Axes>"
      ]
     },
     "metadata": {},
     "output_type": "display_data"
    }
   ],
   "source": [
    "plt.plot([model_curve[\"condoms\"][step] for step in range(30)], color = 'c', label = 'Infected')\n",
    "plt.plot([model_curve['condoms_S'][step] for step in range(30)], color = 'purple', label = 'Susceptible')\n",
    "plt.ylabel('Percentage')\n",
    "plt.xlabel('Number of steps')\n",
    "plt.xscale('symlog')\n",
    "plt.title('SI model for condoms')\n",
    "green_patch = mpatches.Patch(color='c', label='Infected') \n",
    "blue_patch = mpatches.Patch(color='purple', label='Susceptible') \n",
    "plt.legend(handles=[green_patch, blue_patch], loc='center right')\n",
    "plt.show()"
   ]
  },
  {
   "cell_type": "code",
   "execution_count": null,
   "metadata": {},
   "outputs": [],
   "source": [
    "model_curve = defaultdict(lambda : defaultdict(float))\n",
    "for run in range(10):\n",
    "   # The seed set should be the same for both models\n",
    "   i_nodes_hubs = set(random.sample(list(d_c_sorted.keys()), 3))\n",
    "   i_nodes_peri = set(random.sample(list(peri.keys()), 3))\n",
    "   for step in range(30):\n",
    "      i_nodes_hubs = si_simple(pG_condoms, i_nodes_hubs)\n",
    "      i_nodes_peri = si_simple(pG_condoms, i_nodes_peri)\n",
    "      # Since we run 10 times, we average the infected set size\n",
    "      model_curve[\"hubs\"][step] += (len(i_nodes_hubs) / len(pG_condoms.nodes)) * 10\n",
    "      model_curve[\"peri\"][step] += (len(i_nodes_peri) / len(pG_condoms.nodes)) * 10"
   ]
  },
  {
   "cell_type": "code",
   "execution_count": null,
   "metadata": {},
   "outputs": [
    {
     "data": {
      "image/png": "[encoded data removed]",
      "text/plain": [
       "<Figure size 640x480 with 1 Axes>"
      ]
     },
     "metadata": {},
     "output_type": "display_data"
    }
   ],
   "source": [
    "plt.plot([model_curve[\"hubs\"][step] for step in range(30)], color = 'c', label = 'Hubs')\n",
    "plt.plot([model_curve[\"peri\"][step] for step in range(30)], color = 'r', label = 'Peri')\n",
    "plt.ylabel('Percentage of infected escorts')\n",
    "plt.xlabel('Number of steps')\n",
    "plt.fill_between(range(30), [model_curve[\"hubs\"][step] for step in range(30)], [model_curve[\"peri\"][step] for step in range(30)], color ='#FAF7E1')\n",
    "plt.xscale('symlog')\n",
    "plt.suptitle('Hubs vs Peripheral nodes as starters on condoms', fontsize=14)\n",
    "plt.title('with calculating degree centrality', fontsize = 10)\n",
    "green_patch = mpatches.Patch(color='c', label='Hubs') \n",
    "blue_patch = mpatches.Patch(color='r', label='Peripheral') \n",
    "plt.legend(handles=[green_patch, blue_patch], loc='lower right')\n",
    "plt.show()"
   ]
  },
  {
   "cell_type": "code",
   "execution_count": null,
   "metadata": {},
   "outputs": [],
   "source": [
    "## SIS\n",
    "# new model\n",
    "\n",
    "##How many have condoms\n",
    "#Maybe 30, 50, 70 % have condoms. Do this afterwards\n",
    "#make this condom distribution a function\n",
    "\n",
    "##Who do we give the condoms to\n",
    "#Project onto males, Calculate degree centrality to find hubs, dsitribute in the 10 biggest hubs, the 10 lowest hubs maybe.\n",
    "#TA q: Project onto guys or find another way of findings the males' friends\n",
    "#how many escort each guys visits to find his friends"
   ]
  }
 ],
 "metadata": {
  "kernelspec": {
   "display_name": "base",
   "language": "python",
   "name": "python3"
  },
  "language_info": {
   "codemirror_mode": {
    "name": "ipython",
    "version": 3
   },
   "file_extension": ".py",
   "mimetype": "text/x-python",
   "name": "python",
   "nbconvert_exporter": "python",
   "pygments_lexer": "ipython3",
   "version": "3.9.12"
  },
  "orig_nbformat": 4,
  "vscode": {
   "interpreter": {
    "hash": "56941cacf15e8b05765996006082865469347c2b4cdce983108d1335de8b4245"
   }
  }
 },
 "nbformat": 4,
 "nbformat_minor": 2
}
