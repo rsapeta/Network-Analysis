{
 "cells": [
  {
   "cell_type": "markdown",
   "metadata": {},
   "source": [
    "# Imports and reading the data"
   ]
  },
  {
   "cell_type": "code",
   "execution_count": 40,
   "metadata": {},
   "outputs": [],
   "source": [
    "import networkx as nx\n",
    "import pandas as pd \n",
    "import matplotlib.pyplot as plt\n",
    "from collections import Counter\n",
    "import matplotlib.patches as mpatches \n",
    "import random\n",
    "from collections import defaultdict"
   ]
  },
  {
   "cell_type": "code",
   "execution_count": 2,
   "metadata": {},
   "outputs": [],
   "source": [
    "#reading the data\n",
    "df = pd.read_csv('escorts.txt', delim_whitespace=True, index_col=False)\n",
    "\n",
    "df_copy = df.copy()\n",
    "\n",
    "#creating new columns in df that adds: year, month and day\n",
    "df_copy['datetime'] = pd.to_datetime(df_copy['timestamp'], unit='s')\n",
    "\n",
    "df_copy['year'] = df_copy['datetime'].dt.year\n",
    "df_copy['month'] = df_copy['datetime'].dt.month\n",
    "df_copy['day'] = df_copy['datetime'].dt.day\n",
    "\n",
    "#dropping column datetime\n",
    "df_copy = df_copy.drop(columns=['datetime'])\n",
    "\n",
    "#getting rid of the timestamp\n",
    "df_no_time = df.drop('timestamp', axis=1)\n",
    "df_no_time.to_csv('escorts.csv', index =False, header=False)\n"
   ]
  },
  {
   "cell_type": "markdown",
   "metadata": {},
   "source": [
    "### Creating graphs"
   ]
  },
  {
   "cell_type": "code",
   "execution_count": 3,
   "metadata": {},
   "outputs": [],
   "source": [
    "#creating different IDs for buyers(a) and escorts(b), so the nx function could read it\n",
    "df_no_time['n1'] = 'a' + df_no_time['n1'].astype(str)\n",
    "\n",
    "df_no_time['n2'] = 'b' + df_no_time['n2'].astype(str)\n",
    "\n",
    "#collapsing the edges where one buyer rated the same girl more than 1 time\n",
    "main_df = df_no_time.groupby(['n1', 'n2'], as_index=False).mean() #yes, it creates the means if they went to more than one escort\n"
   ]
  },
  {
   "cell_type": "code",
   "execution_count": 4,
   "metadata": {},
   "outputs": [],
   "source": [
    "#projecting the bipartite graph using vectorized projection\n",
    "G = nx.from_pandas_edgelist(main_df, 'n1', 'n2', 'e')\n",
    "\n",
    "#projecting onto the escorts\n",
    "proj_G = nx.bipartite.weighted_projected_graph(G, nodes = main_df.n2.unique(), ratio=True) #ratio is number of common neighbors devided by number of buyers\n",
    "\n",
    "#projecting onto the buyers\n",
    "proj_G_b = nx.bipartite.weighted_projected_graph(G, nodes = main_df.n1.unique(), ratio=True)"
   ]
  },
  {
   "cell_type": "markdown",
   "metadata": {},
   "source": [
    "# Basic network analysis"
   ]
  },
  {
   "cell_type": "markdown",
   "metadata": {},
   "source": [
    "### On the bipartite network"
   ]
  },
  {
   "cell_type": "code",
   "execution_count": 5,
   "metadata": {},
   "outputs": [
    {
     "name": "stdout",
     "output_type": "stream",
     "text": [
      "Unique edge count: 39044\n",
      "Total number of nodes: 16730\n",
      "Numbers of buyers: 10106\n",
      "Numbers of escorts: 6624\n",
      "Total number of rows: 50632\n",
      "Is the network connected? False\n",
      "Average rating: 0.743\n"
     ]
    }
   ],
   "source": [
    "#finding unique number of buyers and escorts\n",
    "buyers = df.n1.unique().tolist()\n",
    "escorts = df.n2.unique().tolist()\n",
    "\n",
    "print(f'Unique edge count: {G.size()}')\n",
    "print(f'Total number of nodes: {G.number_of_nodes()}')\n",
    "print(f'Numbers of buyers: {len(buyers)}')\n",
    "print(f'Numbers of escorts: {len(escorts)}')\n",
    "print(f'Total number of rows: {df_no_time.shape[0]}') #num of encounters\n",
    "print(f'Is the network connected? {nx.is_connected(G)}') \n",
    "\n",
    "avg_rating = round(float(df_no_time['e'].mean()), 3)\n",
    "print(f'Average rating: {avg_rating}') #most of them satisfied ;)"
   ]
  },
  {
   "cell_type": "code",
   "execution_count": 6,
   "metadata": {},
   "outputs": [
    {
     "name": "stdout",
     "output_type": "stream",
     "text": [
      "38540\n",
      "Number of unique edges are out of the LCC: 504\n"
     ]
    }
   ],
   "source": [
    "#Largest Connected Component\n",
    "Gcc = sorted(nx.connected_components(G), key=len, reverse=True)\n",
    "LCC = G.subgraph(Gcc[0])\n",
    "print(LCC.size())\n",
    "print(f'Number of unique edges are out of the LCC: {G.size() - LCC.size()}')"
   ]
  },
  {
   "cell_type": "code",
   "execution_count": 7,
   "metadata": {},
   "outputs": [],
   "source": [
    "#finding most popular buyers(biggest amount of payments) and escorts(how many times visited)\n",
    "#we need to observe that the escorts that had less buyers and had rating of 1, will have better scores than the most visited ones\n",
    "#so we need to normalize it\n",
    "\n",
    "#on df_no_time, because it contains the edges before collapsing them\n",
    "\n",
    "#Making dataframe of popular buyers and popular escorts\n",
    "pop_buyers = df_no_time['n1'].value_counts().reset_index()\n",
    "pop_escorts = df_no_time['n2'].value_counts().reset_index()\n",
    "\n",
    "#Making list of the 10 most popular buyers\n",
    "b_top10 = pop_buyers['index'].head(10).tolist()\n",
    " \n",
    "#Making list of the 10 most popular escorts\n",
    "e_top10 = pop_escorts['index'].head(10).tolist()"
   ]
  },
  {
   "cell_type": "code",
   "execution_count": 8,
   "metadata": {},
   "outputs": [
    {
     "name": "stdout",
     "output_type": "stream",
     "text": [
      "{'b11': 0.98, 'b1565': 0.992, 'b1443': 0.96, 'b41': 0.942, 'b1345': 0.968, 'b2845': 0.977, 'b2470': 0.98, 'b1569': 0.953, 'b2799': 0.983, 'b503': 0.955}\n"
     ]
    }
   ],
   "source": [
    "\n",
    "#Dictionary of average rating of most vistied escorts (top 10 degrees)\n",
    "#Key: ID of escort\n",
    "#Value: Average rating\n",
    "avg = {}\n",
    "for escort in e_top10:\n",
    "    most_pop_esc = df_no_time[df_no_time['n2'] == escort]\n",
    "    ratings = most_pop_esc['e'].tolist()\n",
    "    avg[escort] = round(sum(ratings)/len(ratings), 3)\n",
    "\n",
    "print(avg)"
   ]
  },
  {
   "cell_type": "code",
   "execution_count": 9,
   "metadata": {},
   "outputs": [
    {
     "name": "stdout",
     "output_type": "stream",
     "text": [
      "Average degree of buyers: 5.01\n",
      "Average degree of escorts: 7.644\n"
     ]
    }
   ],
   "source": [
    "#Average degrees\n",
    "\n",
    "avg_d_b = round(float(pop_buyers['n1'].mean()), 3)\n",
    "print(f'Average degree of buyers: {avg_d_b}') #how many ratings they've given\n",
    "\n",
    "avg_d_e = round(float(pop_escorts['n2'].mean()), 3)\n",
    "print(f'Average degree of escorts: {avg_d_e}') #how many times they've been rated"
   ]
  },
  {
   "cell_type": "markdown",
   "metadata": {},
   "source": [
    "### On the projections"
   ]
  },
  {
   "cell_type": "code",
   "execution_count": 10,
   "metadata": {},
   "outputs": [
    {
     "name": "stdout",
     "output_type": "stream",
     "text": [
      "Numbers of singletons: 385\n"
     ]
    }
   ],
   "source": [
    "#number of singletons\n",
    "degrees = nx.degree(proj_G)\n",
    "\n",
    "n = 0\n",
    "for key, value in degrees:\n",
    "    if value == 0:\n",
    "        n += 1\n",
    "print(f'Numbers of singletons: {n}')"
   ]
  },
  {
   "cell_type": "code",
   "execution_count": 11,
   "metadata": {},
   "outputs": [
    {
     "name": "stdout",
     "output_type": "stream",
     "text": [
      "183465\n",
      "6624\n",
      "0.008363886718878218\n"
     ]
    }
   ],
   "source": [
    "#basic network analysis on projected network\n",
    "# proj_G.size() #num of edges\n",
    "print(proj_G.number_of_edges())\n",
    "print(proj_G.number_of_nodes())\n",
    "\n",
    "#density it's a range 0-1\n",
    "print(nx.density(proj_G)) #quite sparse "
   ]
  },
  {
   "cell_type": "code",
   "execution_count": 12,
   "metadata": {},
   "outputs": [
    {
     "name": "stdout",
     "output_type": "stream",
     "text": [
      "9.895111814763506e-05\n",
      "0.059637838907579656\n"
     ]
    }
   ],
   "source": [
    "# idea: in order to create more fair rating of escorts (normalize the retings) average the weights of edges of a specific node and\n",
    "# use it as a weights to use on averaged rating on the node.\n",
    "# this doesn't work, because it'd favor the most visited nodes\n",
    "\n",
    "x = (len(G) - len(main_df.n2.unique())) #ratio=True when we project th network\n",
    "rat1 = 1/x\n",
    "rat600 = 615/x\n",
    "\n",
    "#example scores\n",
    "print(1*rat1)\n",
    "print(0.98*rat600)"
   ]
  },
  {
   "cell_type": "code",
   "execution_count": 13,
   "metadata": {},
   "outputs": [
    {
     "name": "stdout",
     "output_type": "stream",
     "text": [
      "0.6666666666666666\n",
      "0.9784116693679092\n",
      "0.39607843137254906\n"
     ]
    }
   ],
   "source": [
    "rat1 = 2/3\n",
    "rat600 = 616/617\n",
    "rat = 101/102\n",
    "\n",
    "print(1*rat1)\n",
    "print(0.98*rat600)\n",
    "print(0.4*rat)"
   ]
  },
  {
   "cell_type": "markdown",
   "metadata": {},
   "source": [
    "### Laplace's Rule of Succesion "
   ]
  },
  {
   "cell_type": "code",
   "execution_count": 14,
   "metadata": {},
   "outputs": [],
   "source": [
    "# Define Laplace's Rule of Succession function with weighted ratings\n",
    "def laplace_rule_of_succession(df, rating_weights={'positive': 1, 'neutral': 0.5, 'negative': -1}):\n",
    "    # Calculate the total number of reviews for each escort\n",
    "    reviews_count = df.groupby('n2')['e'].count().reset_index()\n",
    "    reviews_count.rename(columns={'e': 'TotalReviews'}, inplace=True)\n",
    "\n",
    "    # Calculate the total weight for each escort\n",
    "    weighted_reviews = df.groupby(['n2'])['e'].sum().reset_index()\n",
    "    weighted_reviews.rename(columns={'e': 'TotalWeight'}, inplace=True)\n",
    "\n",
    "    # Merge the weight information back into the main dataframe\n",
    "    df = pd.merge(df, reviews_count, on='n2', how='left')\n",
    "    df = pd.merge(df, weighted_reviews, on='n2', how='left')\n",
    "\n",
    "    # Calculate Laplace-adjusted ratings with weighted ratings\n",
    "    df['LaplaceAdjustedRating'] = (df['TotalWeight'] + rating_weights['positive']) / (df['TotalReviews'] + sum(rating_weights.values()))\n",
    "\n",
    "    return df\n",
    "\n"
   ]
  },
  {
   "cell_type": "code",
   "execution_count": 15,
   "metadata": {},
   "outputs": [
    {
     "data": {
      "text/html": [
       "<div>\n",
       "<style scoped>\n",
       "    .dataframe tbody tr th:only-of-type {\n",
       "        vertical-align: middle;\n",
       "    }\n",
       "\n",
       "    .dataframe tbody tr th {\n",
       "        vertical-align: top;\n",
       "    }\n",
       "\n",
       "    .dataframe thead th {\n",
       "        text-align: right;\n",
       "    }\n",
       "</style>\n",
       "<table border=\"1\" class=\"dataframe\">\n",
       "  <thead>\n",
       "    <tr style=\"text-align: right;\">\n",
       "      <th></th>\n",
       "      <th>n1</th>\n",
       "      <th>n2</th>\n",
       "      <th>e</th>\n",
       "      <th>TotalReviews</th>\n",
       "      <th>TotalWeight</th>\n",
       "      <th>LaplaceAdjustedRating</th>\n",
       "    </tr>\n",
       "  </thead>\n",
       "  <tbody>\n",
       "    <tr>\n",
       "      <th>0</th>\n",
       "      <td>a1</td>\n",
       "      <td>b1</td>\n",
       "      <td>0.0</td>\n",
       "      <td>47</td>\n",
       "      <td>18.50</td>\n",
       "      <td>0.410526</td>\n",
       "    </tr>\n",
       "    <tr>\n",
       "      <th>1</th>\n",
       "      <td>a1</td>\n",
       "      <td>b1057</td>\n",
       "      <td>-1.0</td>\n",
       "      <td>83</td>\n",
       "      <td>65.25</td>\n",
       "      <td>0.793413</td>\n",
       "    </tr>\n",
       "    <tr>\n",
       "      <th>2</th>\n",
       "      <td>a1</td>\n",
       "      <td>b12</td>\n",
       "      <td>0.0</td>\n",
       "      <td>85</td>\n",
       "      <td>65.00</td>\n",
       "      <td>0.771930</td>\n",
       "    </tr>\n",
       "    <tr>\n",
       "      <th>3</th>\n",
       "      <td>a1</td>\n",
       "      <td>b130</td>\n",
       "      <td>-1.0</td>\n",
       "      <td>16</td>\n",
       "      <td>-9.00</td>\n",
       "      <td>-0.484848</td>\n",
       "    </tr>\n",
       "    <tr>\n",
       "      <th>4</th>\n",
       "      <td>a1</td>\n",
       "      <td>b1340</td>\n",
       "      <td>-1.0</td>\n",
       "      <td>63</td>\n",
       "      <td>46.00</td>\n",
       "      <td>0.740157</td>\n",
       "    </tr>\n",
       "    <tr>\n",
       "      <th>...</th>\n",
       "      <td>...</td>\n",
       "      <td>...</td>\n",
       "      <td>...</td>\n",
       "      <td>...</td>\n",
       "      <td>...</td>\n",
       "      <td>...</td>\n",
       "    </tr>\n",
       "    <tr>\n",
       "      <th>39039</th>\n",
       "      <td>a9996</td>\n",
       "      <td>b1503</td>\n",
       "      <td>1.0</td>\n",
       "      <td>36</td>\n",
       "      <td>28.00</td>\n",
       "      <td>0.794521</td>\n",
       "    </tr>\n",
       "    <tr>\n",
       "      <th>39040</th>\n",
       "      <td>a9997</td>\n",
       "      <td>b125</td>\n",
       "      <td>1.0</td>\n",
       "      <td>22</td>\n",
       "      <td>22.00</td>\n",
       "      <td>1.022222</td>\n",
       "    </tr>\n",
       "    <tr>\n",
       "      <th>39041</th>\n",
       "      <td>a9998</td>\n",
       "      <td>b1569</td>\n",
       "      <td>1.0</td>\n",
       "      <td>270</td>\n",
       "      <td>252.00</td>\n",
       "      <td>0.935305</td>\n",
       "    </tr>\n",
       "    <tr>\n",
       "      <th>39042</th>\n",
       "      <td>a9998</td>\n",
       "      <td>b4791</td>\n",
       "      <td>1.0</td>\n",
       "      <td>22</td>\n",
       "      <td>21.00</td>\n",
       "      <td>0.977778</td>\n",
       "    </tr>\n",
       "    <tr>\n",
       "      <th>39043</th>\n",
       "      <td>a9999</td>\n",
       "      <td>b6051</td>\n",
       "      <td>1.0</td>\n",
       "      <td>10</td>\n",
       "      <td>8.00</td>\n",
       "      <td>0.857143</td>\n",
       "    </tr>\n",
       "  </tbody>\n",
       "</table>\n",
       "<p>39044 rows × 6 columns</p>\n",
       "</div>"
      ],
      "text/plain": [
       "          n1     n2    e  TotalReviews  TotalWeight  LaplaceAdjustedRating\n",
       "0         a1     b1  0.0            47        18.50               0.410526\n",
       "1         a1  b1057 -1.0            83        65.25               0.793413\n",
       "2         a1    b12  0.0            85        65.00               0.771930\n",
       "3         a1   b130 -1.0            16        -9.00              -0.484848\n",
       "4         a1  b1340 -1.0            63        46.00               0.740157\n",
       "...      ...    ...  ...           ...          ...                    ...\n",
       "39039  a9996  b1503  1.0            36        28.00               0.794521\n",
       "39040  a9997   b125  1.0            22        22.00               1.022222\n",
       "39041  a9998  b1569  1.0           270       252.00               0.935305\n",
       "39042  a9998  b4791  1.0            22        21.00               0.977778\n",
       "39043  a9999  b6051  1.0            10         8.00               0.857143\n",
       "\n",
       "[39044 rows x 6 columns]"
      ]
     },
     "execution_count": 15,
     "metadata": {},
     "output_type": "execute_result"
    }
   ],
   "source": [
    "df_test = laplace_rule_of_succession(main_df)\n",
    "df_test"
   ]
  },
  {
   "cell_type": "markdown",
   "metadata": {},
   "source": [
    "## Degree distribution"
   ]
  },
  {
   "cell_type": "code",
   "execution_count": 16,
   "metadata": {},
   "outputs": [],
   "source": [
    "#degrees in the bipartite network\n",
    "bi_escorts_degrees = Counter(main_df['n2'])\n",
    "\n",
    "bi_buyers_degrees = Counter(main_df['n1'])\n",
    "\n",
    "#degrees in the projected\n",
    "escorts_degrees = dict(proj_G.degree())\n",
    "buyers_degrees = dict(proj_G_b.degree())"
   ]
  },
  {
   "cell_type": "code",
   "execution_count": 17,
   "metadata": {},
   "outputs": [
    {
     "data": {
      "image/png": "[encoded data removed]",
      "text/plain": [
       "<Figure size 640x480 with 4 Axes>"
      ]
     },
     "metadata": {},
     "output_type": "display_data"
    }
   ],
   "source": [
    "#Plotting degree distribution\n",
    "fig, ax = plt.subplots(2, 2)\n",
    "\n",
    "ax[0, 0].hist(bi_escorts_degrees.values(), bins=60, alpha=0.5, label='Escorts', color='g')\n",
    "ax[0,0].set_xscale('log')\n",
    "\n",
    "ax[0, 1].hist(bi_buyers_degrees.values(), bins=60, alpha=0.5, label='Buyers', color = 'b')\n",
    "ax[0,1].set_xscale('log')\n",
    "\n",
    "ax3 = ax[1, 0].hist(escorts_degrees.values(), bins=60, alpha=0.5, label='Escorts', color ='g')\n",
    "ax[1,0].set_xscale('log')\n",
    "\n",
    "ax4 = ax[1, 1].hist(buyers_degrees.values(), bins=60, alpha=0.5, label='Buyers', color = 'b')\n",
    "ax[1,1].set_xscale('log')\n",
    "\n",
    "fig.supxlabel('Degree')\n",
    "fig.supylabel('Frequency')\n",
    "\n",
    "green_patch = mpatches.Patch(color='g', label='Escorts') \n",
    "blue_patch = mpatches.Patch(color='b', label='Buyers') \n",
    "fig.legend(handles=[green_patch, blue_patch], loc='upper right') \n",
    "ax[0,0].set_title('In the bipartite network', loc='left')\n",
    "ax[1,0].set_title('In the network projected onto escorts', loc='left')\n",
    "fig.suptitle('Degree distribution')\n",
    "fig.subplots_adjust(hspace=0.7, top=0.85)\n",
    "\n",
    "plt.show()"
   ]
  },
  {
   "cell_type": "markdown",
   "metadata": {},
   "source": [
    "### Cumulative degree distribution"
   ]
  },
  {
   "cell_type": "code",
   "execution_count": 18,
   "metadata": {},
   "outputs": [],
   "source": [
    "degree_sequence = sorted([d for n, d in G.degree()], reverse=True) #the degree of each nod"
   ]
  },
  {
   "cell_type": "code",
   "execution_count": 19,
   "metadata": {},
   "outputs": [],
   "source": [
    "# accumulating the degrees from highest to lowest\n",
    "cumulative_degrees = [degree_sequence[:i].count(degree) for i, degree in enumerate(degree_sequence)]"
   ]
  },
  {
   "cell_type": "code",
   "execution_count": 20,
   "metadata": {},
   "outputs": [
    {
     "data": {
      "image/png": "[encoded data removed]",
      "text/plain": [
       "<Figure size 640x480 with 1 Axes>"
      ]
     },
     "metadata": {},
     "output_type": "display_data"
    }
   ],
   "source": [
    "plt.plot(degree_sequence, cumulative_degrees, marker='o')\n",
    "plt.xlabel(\"Degree\")\n",
    "plt.ylabel(\"Cumulative Degree Distribution\")\n",
    "plt.title(\"Cumulative Degree Distribution\")\n",
    "plt.grid(True)\n",
    "plt.show()"
   ]
  },
  {
   "cell_type": "markdown",
   "metadata": {},
   "source": [
    "# Calculating centralities to detect the hubs of the network"
   ]
  },
  {
   "cell_type": "markdown",
   "metadata": {},
   "source": [
    "### Degree centrality"
   ]
  },
  {
   "cell_type": "code",
   "execution_count": 21,
   "metadata": {},
   "outputs": [],
   "source": [
    "d_cent = nx.degree_centrality(proj_G)\n",
    "\n",
    "#top 10\n",
    "d_c_sorted = {k: v for k, v in sorted(d_cent.items(), key=lambda item: item[1], reverse=True)[:10]}"
   ]
  },
  {
   "cell_type": "markdown",
   "metadata": {},
   "source": [
    "### Betweenness centrality"
   ]
  },
  {
   "cell_type": "code",
   "execution_count": 22,
   "metadata": {},
   "outputs": [],
   "source": [
    "b_cent = nx.betweenness_centrality(proj_G, k=1000)\n",
    "\n",
    "#top 10\n",
    "b_c_sorted = {k: v for k, v in sorted(b_cent.items(), key=lambda item: item[1], reverse=True)[:10]}"
   ]
  },
  {
   "cell_type": "code",
   "execution_count": 23,
   "metadata": {},
   "outputs": [],
   "source": [
    "#wtf are the endpoints about???\n",
    "# b_cent = nx.betweenness_centrality(proj_G, k=10, endpoints=True)\n",
    "# sortt = {k: v for k, v in sorted(b_cent.items(), key=lambda item: item[1], reverse=True)[:10]}\n",
    "# sortt"
   ]
  },
  {
   "cell_type": "markdown",
   "metadata": {},
   "source": [
    "### Closeness centrality"
   ]
  },
  {
   "cell_type": "code",
   "execution_count": 24,
   "metadata": {},
   "outputs": [],
   "source": [
    "c_cent = nx.closeness_centrality(proj_G)\n",
    "\n",
    "#top 10\n",
    "c_c_sorted = {k: v for k, v in sorted(c_cent.items(), key=lambda item: item[1], reverse=True)[:10]}"
   ]
  },
  {
   "cell_type": "code",
   "execution_count": 25,
   "metadata": {},
   "outputs": [],
   "source": [
    "#the algorithm was designed for directed graph, but it gives us some idea of hubs\n",
    "hity = nx.hits(proj_G)\n",
    "hity = dict(hity[0])\n",
    "\n",
    "#top 10\n",
    "hits_sorted = {k: v for k, v in sorted(hity.items(), key=lambda item: item[1], reverse=True)[:10]}"
   ]
  },
  {
   "cell_type": "code",
   "execution_count": 26,
   "metadata": {},
   "outputs": [
    {
     "data": {
      "text/plain": [
       "16"
      ]
     },
     "execution_count": 26,
     "metadata": {},
     "output_type": "execute_result"
    }
   ],
   "source": [
    "\n",
    "# Merging all 4 hub detection techniques to find unique hubs they present\n",
    "hubs = list(b_c_sorted.keys()) + list(d_c_sorted.keys()) + list(c_c_sorted.keys()) + list(hits_sorted.keys())\n",
    "hubs = set(hubs)\n",
    "len(hubs)"
   ]
  },
  {
   "cell_type": "markdown",
   "metadata": {},
   "source": [
    "# Community detection"
   ]
  },
  {
   "cell_type": "code",
   "execution_count": 27,
   "metadata": {},
   "outputs": [],
   "source": [
    "#Community Detection\n",
    "lab_prop = nx.community.label_propagation_communities(proj_G)\n",
    "modularity = nx.community.greedy_modularity_communities(proj_G)\n",
    "\n",
    "listed_lab = list(lab_prop)\n",
    "listed_lab.sort(key=len, reverse=True)"
   ]
  },
  {
   "cell_type": "code",
   "execution_count": 28,
   "metadata": {},
   "outputs": [
    {
     "name": "stdout",
     "output_type": "stream",
     "text": [
      "1969\n",
      "1360\n",
      "1296\n",
      "797\n",
      "679\n",
      "20\n",
      "9\n",
      "8\n",
      "7\n",
      "5\n",
      "5\n",
      "4\n",
      "_________________________\n",
      "2583\n",
      "988\n",
      "621\n",
      "497\n",
      "391\n",
      "382\n",
      "225\n",
      "167\n",
      "21\n",
      "16\n",
      "12\n",
      "9\n"
     ]
    }
   ],
   "source": [
    "#number of nodes in each community\n",
    "for i in range(12):\n",
    "    print(len(modularity[i]))\n",
    "\n",
    "print(\"_________________________\")\n",
    "\n",
    "for i in range(12):\n",
    "    print(len(listed_lab[i]))"
   ]
  },
  {
   "attachments": {},
   "cell_type": "markdown",
   "metadata": {},
   "source": [
    "## PURE AND PROTECTED SEX"
   ]
  },
  {
   "cell_type": "code",
   "execution_count": 29,
   "metadata": {},
   "outputs": [
    {
     "data": {
      "text/html": [
       "<div>\n",
       "<style scoped>\n",
       "    .dataframe tbody tr th:only-of-type {\n",
       "        vertical-align: middle;\n",
       "    }\n",
       "\n",
       "    .dataframe tbody tr th {\n",
       "        vertical-align: top;\n",
       "    }\n",
       "\n",
       "    .dataframe thead th {\n",
       "        text-align: right;\n",
       "    }\n",
       "</style>\n",
       "<table border=\"1\" class=\"dataframe\">\n",
       "  <thead>\n",
       "    <tr style=\"text-align: right;\">\n",
       "      <th></th>\n",
       "      <th>n1</th>\n",
       "      <th>n2</th>\n",
       "      <th>e</th>\n",
       "    </tr>\n",
       "  </thead>\n",
       "  <tbody>\n",
       "    <tr>\n",
       "      <th>0</th>\n",
       "      <td>a1</td>\n",
       "      <td>b1</td>\n",
       "      <td>0.365</td>\n",
       "    </tr>\n",
       "    <tr>\n",
       "      <th>1</th>\n",
       "      <td>a1</td>\n",
       "      <td>b1057</td>\n",
       "      <td>0.365</td>\n",
       "    </tr>\n",
       "    <tr>\n",
       "      <th>2</th>\n",
       "      <td>a1</td>\n",
       "      <td>b12</td>\n",
       "      <td>0.365</td>\n",
       "    </tr>\n",
       "    <tr>\n",
       "      <th>3</th>\n",
       "      <td>a1</td>\n",
       "      <td>b130</td>\n",
       "      <td>0.365</td>\n",
       "    </tr>\n",
       "    <tr>\n",
       "      <th>4</th>\n",
       "      <td>a1</td>\n",
       "      <td>b1340</td>\n",
       "      <td>0.365</td>\n",
       "    </tr>\n",
       "    <tr>\n",
       "      <th>5</th>\n",
       "      <td>a1</td>\n",
       "      <td>b135</td>\n",
       "      <td>0.365</td>\n",
       "    </tr>\n",
       "    <tr>\n",
       "      <th>6</th>\n",
       "      <td>a1</td>\n",
       "      <td>b1443</td>\n",
       "      <td>0.365</td>\n",
       "    </tr>\n",
       "    <tr>\n",
       "      <th>7</th>\n",
       "      <td>a1</td>\n",
       "      <td>b161</td>\n",
       "      <td>0.365</td>\n",
       "    </tr>\n",
       "    <tr>\n",
       "      <th>8</th>\n",
       "      <td>a1</td>\n",
       "      <td>b1795</td>\n",
       "      <td>0.365</td>\n",
       "    </tr>\n",
       "    <tr>\n",
       "      <th>9</th>\n",
       "      <td>a1</td>\n",
       "      <td>b2</td>\n",
       "      <td>0.365</td>\n",
       "    </tr>\n",
       "    <tr>\n",
       "      <th>10</th>\n",
       "      <td>a1</td>\n",
       "      <td>b2115</td>\n",
       "      <td>0.365</td>\n",
       "    </tr>\n",
       "    <tr>\n",
       "      <th>11</th>\n",
       "      <td>a1</td>\n",
       "      <td>b23</td>\n",
       "      <td>0.365</td>\n",
       "    </tr>\n",
       "    <tr>\n",
       "      <th>12</th>\n",
       "      <td>a1</td>\n",
       "      <td>b2315</td>\n",
       "      <td>0.365</td>\n",
       "    </tr>\n",
       "    <tr>\n",
       "      <th>13</th>\n",
       "      <td>a1</td>\n",
       "      <td>b2470</td>\n",
       "      <td>0.365</td>\n",
       "    </tr>\n",
       "    <tr>\n",
       "      <th>14</th>\n",
       "      <td>a1</td>\n",
       "      <td>b3</td>\n",
       "      <td>0.365</td>\n",
       "    </tr>\n",
       "    <tr>\n",
       "      <th>15</th>\n",
       "      <td>a1</td>\n",
       "      <td>b41</td>\n",
       "      <td>0.365</td>\n",
       "    </tr>\n",
       "    <tr>\n",
       "      <th>16</th>\n",
       "      <td>a1</td>\n",
       "      <td>b433</td>\n",
       "      <td>0.365</td>\n",
       "    </tr>\n",
       "    <tr>\n",
       "      <th>17</th>\n",
       "      <td>a1</td>\n",
       "      <td>b464</td>\n",
       "      <td>0.365</td>\n",
       "    </tr>\n",
       "    <tr>\n",
       "      <th>18</th>\n",
       "      <td>a1</td>\n",
       "      <td>b50</td>\n",
       "      <td>0.365</td>\n",
       "    </tr>\n",
       "    <tr>\n",
       "      <th>19</th>\n",
       "      <td>a1</td>\n",
       "      <td>b67</td>\n",
       "      <td>0.365</td>\n",
       "    </tr>\n",
       "    <tr>\n",
       "      <th>20</th>\n",
       "      <td>a1</td>\n",
       "      <td>b87</td>\n",
       "      <td>0.365</td>\n",
       "    </tr>\n",
       "    <tr>\n",
       "      <th>21</th>\n",
       "      <td>a10</td>\n",
       "      <td>b11</td>\n",
       "      <td>0.073</td>\n",
       "    </tr>\n",
       "    <tr>\n",
       "      <th>22</th>\n",
       "      <td>a100</td>\n",
       "      <td>b1443</td>\n",
       "      <td>0.073</td>\n",
       "    </tr>\n",
       "    <tr>\n",
       "      <th>23</th>\n",
       "      <td>a100</td>\n",
       "      <td>b2204</td>\n",
       "      <td>0.073</td>\n",
       "    </tr>\n",
       "    <tr>\n",
       "      <th>24</th>\n",
       "      <td>a100</td>\n",
       "      <td>b2470</td>\n",
       "      <td>0.073</td>\n",
       "    </tr>\n",
       "    <tr>\n",
       "      <th>25</th>\n",
       "      <td>a100</td>\n",
       "      <td>b2789</td>\n",
       "      <td>0.073</td>\n",
       "    </tr>\n",
       "    <tr>\n",
       "      <th>26</th>\n",
       "      <td>a100</td>\n",
       "      <td>b2972</td>\n",
       "      <td>0.073</td>\n",
       "    </tr>\n",
       "    <tr>\n",
       "      <th>27</th>\n",
       "      <td>a100</td>\n",
       "      <td>b3452</td>\n",
       "      <td>0.073</td>\n",
       "    </tr>\n",
       "    <tr>\n",
       "      <th>28</th>\n",
       "      <td>a100</td>\n",
       "      <td>b66</td>\n",
       "      <td>0.073</td>\n",
       "    </tr>\n",
       "    <tr>\n",
       "      <th>29</th>\n",
       "      <td>a1000</td>\n",
       "      <td>b1039</td>\n",
       "      <td>0.365</td>\n",
       "    </tr>\n",
       "    <tr>\n",
       "      <th>30</th>\n",
       "      <td>a1000</td>\n",
       "      <td>b1307</td>\n",
       "      <td>0.365</td>\n",
       "    </tr>\n",
       "    <tr>\n",
       "      <th>31</th>\n",
       "      <td>a1000</td>\n",
       "      <td>b311</td>\n",
       "      <td>0.365</td>\n",
       "    </tr>\n",
       "    <tr>\n",
       "      <th>32</th>\n",
       "      <td>a1000</td>\n",
       "      <td>b3522</td>\n",
       "      <td>0.365</td>\n",
       "    </tr>\n",
       "    <tr>\n",
       "      <th>33</th>\n",
       "      <td>a10000</td>\n",
       "      <td>b6506</td>\n",
       "      <td>0.073</td>\n",
       "    </tr>\n",
       "    <tr>\n",
       "      <th>34</th>\n",
       "      <td>a10001</td>\n",
       "      <td>b6519</td>\n",
       "      <td>0.073</td>\n",
       "    </tr>\n",
       "    <tr>\n",
       "      <th>35</th>\n",
       "      <td>a10001</td>\n",
       "      <td>b6520</td>\n",
       "      <td>0.073</td>\n",
       "    </tr>\n",
       "    <tr>\n",
       "      <th>36</th>\n",
       "      <td>a10002</td>\n",
       "      <td>b6539</td>\n",
       "      <td>0.073</td>\n",
       "    </tr>\n",
       "    <tr>\n",
       "      <th>37</th>\n",
       "      <td>a10003</td>\n",
       "      <td>b1702</td>\n",
       "      <td>0.365</td>\n",
       "    </tr>\n",
       "    <tr>\n",
       "      <th>38</th>\n",
       "      <td>a10004</td>\n",
       "      <td>b4643</td>\n",
       "      <td>0.073</td>\n",
       "    </tr>\n",
       "    <tr>\n",
       "      <th>39</th>\n",
       "      <td>a10005</td>\n",
       "      <td>b4874</td>\n",
       "      <td>0.073</td>\n",
       "    </tr>\n",
       "    <tr>\n",
       "      <th>40</th>\n",
       "      <td>a10006</td>\n",
       "      <td>b5678</td>\n",
       "      <td>0.365</td>\n",
       "    </tr>\n",
       "    <tr>\n",
       "      <th>41</th>\n",
       "      <td>a10006</td>\n",
       "      <td>b965</td>\n",
       "      <td>0.365</td>\n",
       "    </tr>\n",
       "    <tr>\n",
       "      <th>42</th>\n",
       "      <td>a10007</td>\n",
       "      <td>b5890</td>\n",
       "      <td>0.365</td>\n",
       "    </tr>\n",
       "    <tr>\n",
       "      <th>43</th>\n",
       "      <td>a10008</td>\n",
       "      <td>b6342</td>\n",
       "      <td>0.365</td>\n",
       "    </tr>\n",
       "    <tr>\n",
       "      <th>44</th>\n",
       "      <td>a10009</td>\n",
       "      <td>b6501</td>\n",
       "      <td>0.073</td>\n",
       "    </tr>\n",
       "    <tr>\n",
       "      <th>45</th>\n",
       "      <td>a1001</td>\n",
       "      <td>b464</td>\n",
       "      <td>0.365</td>\n",
       "    </tr>\n",
       "    <tr>\n",
       "      <th>46</th>\n",
       "      <td>a10010</td>\n",
       "      <td>b2261</td>\n",
       "      <td>0.365</td>\n",
       "    </tr>\n",
       "    <tr>\n",
       "      <th>47</th>\n",
       "      <td>a10011</td>\n",
       "      <td>b4271</td>\n",
       "      <td>0.073</td>\n",
       "    </tr>\n",
       "    <tr>\n",
       "      <th>48</th>\n",
       "      <td>a10012</td>\n",
       "      <td>b5041</td>\n",
       "      <td>0.073</td>\n",
       "    </tr>\n",
       "    <tr>\n",
       "      <th>49</th>\n",
       "      <td>a10013</td>\n",
       "      <td>b6205</td>\n",
       "      <td>0.365</td>\n",
       "    </tr>\n",
       "  </tbody>\n",
       "</table>\n",
       "</div>"
      ],
      "text/plain": [
       "        n1     n2      e\n",
       "0       a1     b1  0.365\n",
       "1       a1  b1057  0.365\n",
       "2       a1    b12  0.365\n",
       "3       a1   b130  0.365\n",
       "4       a1  b1340  0.365\n",
       "5       a1   b135  0.365\n",
       "6       a1  b1443  0.365\n",
       "7       a1   b161  0.365\n",
       "8       a1  b1795  0.365\n",
       "9       a1     b2  0.365\n",
       "10      a1  b2115  0.365\n",
       "11      a1    b23  0.365\n",
       "12      a1  b2315  0.365\n",
       "13      a1  b2470  0.365\n",
       "14      a1     b3  0.365\n",
       "15      a1    b41  0.365\n",
       "16      a1   b433  0.365\n",
       "17      a1   b464  0.365\n",
       "18      a1    b50  0.365\n",
       "19      a1    b67  0.365\n",
       "20      a1    b87  0.365\n",
       "21     a10    b11  0.073\n",
       "22    a100  b1443  0.073\n",
       "23    a100  b2204  0.073\n",
       "24    a100  b2470  0.073\n",
       "25    a100  b2789  0.073\n",
       "26    a100  b2972  0.073\n",
       "27    a100  b3452  0.073\n",
       "28    a100    b66  0.073\n",
       "29   a1000  b1039  0.365\n",
       "30   a1000  b1307  0.365\n",
       "31   a1000   b311  0.365\n",
       "32   a1000  b3522  0.365\n",
       "33  a10000  b6506  0.073\n",
       "34  a10001  b6519  0.073\n",
       "35  a10001  b6520  0.073\n",
       "36  a10002  b6539  0.073\n",
       "37  a10003  b1702  0.365\n",
       "38  a10004  b4643  0.073\n",
       "39  a10005  b4874  0.073\n",
       "40  a10006  b5678  0.365\n",
       "41  a10006   b965  0.365\n",
       "42  a10007  b5890  0.365\n",
       "43  a10008  b6342  0.365\n",
       "44  a10009  b6501  0.073\n",
       "45   a1001   b464  0.365\n",
       "46  a10010  b2261  0.365\n",
       "47  a10011  b4271  0.073\n",
       "48  a10012  b5041  0.073\n",
       "49  a10013  b6205  0.365"
      ]
     },
     "execution_count": 29,
     "metadata": {},
     "output_type": "execute_result"
    }
   ],
   "source": [
    "## PURE RAW SEX\n",
    "#CONSTANT INFECTION RATE 0.365\n",
    "seed = 27\n",
    "\n",
    "# 1. updating all edges in bipartite network to have 0.365\n",
    "df_constant = main_df.copy()\n",
    "df_constant.loc[df_constant['e'] < 2, 'e'] = 0.365\n",
    "\n",
    "# 2. Assign random/constant probability of wearing condom on all the male buyers. Change infection rate (edgeweight) according to this.\n",
    "import random\n",
    "\n",
    "dic_condoms = {}\n",
    "male_buyers = df_constant['n1'].unique().tolist()\n",
    "\n",
    "for buyer in male_buyers:\n",
    "    p_or_n = random.randint(0,1)\n",
    "    dic_condoms[buyer] = p_or_n\n",
    "\n",
    "df_condoms = df_constant.copy()\n",
    "\n",
    "for key, value in dic_condoms.items():\n",
    "    if value == 1:\n",
    "        df_condoms.loc[df_condoms['n1'] == key, 'e'] = 0.365*(1-0.8)\n",
    "    \n",
    "df_condoms.head(50)"
   ]
  },
  {
   "cell_type": "markdown",
   "metadata": {},
   "source": [
    "# Analyzing the spread of STD"
   ]
  },
  {
   "cell_type": "code",
   "execution_count": 81,
   "metadata": {},
   "outputs": [
    {
     "name": "stdout",
     "output_type": "stream",
     "text": [
      "0.1703333333333333\n"
     ]
    }
   ],
   "source": [
    "def weightz(G, u, v):\n",
    "    ''' \n",
    "    Assigns weights to the edges in the projected graph based on the average weight of edges between\n",
    "    u, v and their common neighbors in the original graph.\n",
    "\n",
    "    Arguments:\n",
    "        G : graph\n",
    "            A NetworkX undirected bipartite graph.\n",
    "\n",
    "        u, v : nodes\n",
    "            Nodes in the graph.\n",
    "\n",
    "    Returns:\n",
    "        w: float\n",
    "\n",
    "    Raises:\n",
    "        NetworkXError\n",
    "            If u or v is not a node in the graph.\n",
    "    '''\n",
    "    if u not in G:\n",
    "        raise nx.NetworkXError(\"u is not in the graph.\")\n",
    "    if v not in G:\n",
    "        raise nx.NetworkXError(\"v is not in the graph.\")\n",
    "\n",
    "    w = 0\n",
    "    nbrs = nx.common_neighbors(G, u, v)\n",
    "    for i, n in enumerate(nbrs):\n",
    "        w += G.get_edge_data(u, n).get('e')\n",
    "        w += G.get_edge_data(v, n).get('e')\n",
    "    w = w/(2*(i+1))\n",
    "    return w\n",
    "    "
   ]
  },
  {
   "cell_type": "code",
   "execution_count": 113,
   "metadata": {},
   "outputs": [],
   "source": [
    "#projecting graph with custom weights between escorts\n",
    "G_condoms = nx.from_pandas_edgelist(df_condoms, 'n1', 'n2', 'e')\n",
    "proj_G_custom = nx.bipartite.generic_weighted_projected_graph(G_condoms, nodes = main_df.n2.unique(), weight_function=weightz)\n"
   ]
  },
  {
   "cell_type": "markdown",
   "metadata": {},
   "source": [
    "## SI model"
   ]
  },
  {
   "cell_type": "code",
   "execution_count": 138,
   "metadata": {},
   "outputs": [],
   "source": [
    "# Our simple SI function.\n",
    "def si_simple(B, i_nodes):\n",
    "   G = nx.Graph()\n",
    "   G.graph.update(B.graph)\n",
    "   G.add_nodes_from((n, B.nodes[n]) for n in B.nodes)\n",
    "   \n",
    "   new_infected = i_nodes.copy()\n",
    "   for i_node in i_nodes:\n",
    "        s_neighbors_of_i = {n for n in B.neighbors(i_node)}\n",
    "        if len(s_neighbors_of_i) == 0:\n",
    "            pass\n",
    "        for s_node in s_neighbors_of_i:\n",
    "            beta = proj_G_custom.get_edge_data(i_node, s_node, default=0)['weight']\n",
    "            if random.random() < beta:\n",
    "                new_infected.add(s_node)\n",
    "   return new_infected"
   ]
  },
  {
   "cell_type": "code",
   "execution_count": 150,
   "metadata": {},
   "outputs": [],
   "source": [
    "model_curve = defaultdict(lambda : defaultdict(float))\n",
    "for run in range(10):\n",
    "   # The seed set should be the same for both models\n",
    "   i_nodes_simple = set(random.sample(list(set(proj_G_custom.nodes)), 3))\n",
    "   for step in range(50):\n",
    "      i_nodes_simple = si_simple(proj_G_custom, i_nodes_simple)\n",
    "      # Since we run 10 times, we average the infected set size\n",
    "      model_curve[\"simple\"][step] += (len(i_nodes_simple) / len(proj_G_custom.nodes)) / 10"
   ]
  },
  {
   "cell_type": "code",
   "execution_count": 152,
   "metadata": {},
   "outputs": [
    {
     "data": {
      "image/png": "[encoded data removed]",
      "text/plain": [
       "<Figure size 640x480 with 1 Axes>"
      ]
     },
     "metadata": {},
     "output_type": "display_data"
    }
   ],
   "source": [
    "plt.plot([model_curve[\"simple\"][step] for step in range(50)], color = 'g')\n",
    "plt.ylabel('Percentage of infected escorts')\n",
    "plt.xlabel('# of steps')\n",
    "plt.show()"
   ]
  }
 ],
 "metadata": {
  "kernelspec": {
   "display_name": "base",
   "language": "python",
   "name": "python3"
  },
  "language_info": {
   "codemirror_mode": {
    "name": "ipython",
    "version": 3
   },
   "file_extension": ".py",
   "mimetype": "text/x-python",
   "name": "python",
   "nbconvert_exporter": "python",
   "pygments_lexer": "ipython3",
   "version": "3.9.12 (main, Apr  5 2022, 01:53:17) \n[Clang 12.0.0 ]"
  },
  "orig_nbformat": 4,
  "vscode": {
   "interpreter": {
    "hash": "56941cacf15e8b05765996006082865469347c2b4cdce983108d1335de8b4245"
   }
  }
 },
 "nbformat": 4,
 "nbformat_minor": 2
}
