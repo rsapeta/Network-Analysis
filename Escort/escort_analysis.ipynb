{
 "cells": [
  {
   "cell_type": "code",
   "execution_count": 17,
   "metadata": {},
   "outputs": [],
   "source": [
    "import networkx as nx\n",
    "import pandas as pd \n",
    "import matplotlib.pyplot as plt"
   ]
  },
  {
   "cell_type": "code",
   "execution_count": 18,
   "metadata": {},
   "outputs": [],
   "source": [
    "#reading the data\n",
    "df = pd.read_csv('escorts.txt', delim_whitespace=True, index_col=False)\n",
    "\n",
    "df_copy = df.copy()\n",
    "#creating new columns in df that adds: year, month and day\n",
    "df_copy['datetime'] = pd.to_datetime(df_copy['timestamp'], unit='s')\n",
    "\n",
    "df_copy['year'] = df_copy['datetime'].dt.year\n",
    "df_copy['month'] = df_copy['datetime'].dt.month\n",
    "df_copy['day'] = df_copy['datetime'].dt.day\n",
    "\n",
    "#dropping column datetime\n",
    "df_copy = df_copy.drop(columns=['datetime'])\n",
    "\n"
   ]
  },
  {
   "cell_type": "code",
   "execution_count": 19,
   "metadata": {},
   "outputs": [
    {
     "data": {
      "text/html": [
       "<div>\n",
       "<style scoped>\n",
       "    .dataframe tbody tr th:only-of-type {\n",
       "        vertical-align: middle;\n",
       "    }\n",
       "\n",
       "    .dataframe tbody tr th {\n",
       "        vertical-align: top;\n",
       "    }\n",
       "\n",
       "    .dataframe thead th {\n",
       "        text-align: right;\n",
       "    }\n",
       "</style>\n",
       "<table border=\"1\" class=\"dataframe\">\n",
       "  <thead>\n",
       "    <tr style=\"text-align: right;\">\n",
       "      <th></th>\n",
       "      <th>n1</th>\n",
       "      <th>n2</th>\n",
       "      <th>e</th>\n",
       "    </tr>\n",
       "  </thead>\n",
       "  <tbody>\n",
       "    <tr>\n",
       "      <th>0</th>\n",
       "      <td>1</td>\n",
       "      <td>1</td>\n",
       "      <td>0</td>\n",
       "    </tr>\n",
       "    <tr>\n",
       "      <th>1</th>\n",
       "      <td>1</td>\n",
       "      <td>2</td>\n",
       "      <td>1</td>\n",
       "    </tr>\n",
       "    <tr>\n",
       "      <th>2</th>\n",
       "      <td>1</td>\n",
       "      <td>3</td>\n",
       "      <td>0</td>\n",
       "    </tr>\n",
       "    <tr>\n",
       "      <th>3</th>\n",
       "      <td>2</td>\n",
       "      <td>1</td>\n",
       "      <td>0</td>\n",
       "    </tr>\n",
       "    <tr>\n",
       "      <th>4</th>\n",
       "      <td>3</td>\n",
       "      <td>4</td>\n",
       "      <td>0</td>\n",
       "    </tr>\n",
       "    <tr>\n",
       "      <th>5</th>\n",
       "      <td>3</td>\n",
       "      <td>4</td>\n",
       "      <td>0</td>\n",
       "    </tr>\n",
       "    <tr>\n",
       "      <th>6</th>\n",
       "      <td>4</td>\n",
       "      <td>5</td>\n",
       "      <td>0</td>\n",
       "    </tr>\n",
       "    <tr>\n",
       "      <th>7</th>\n",
       "      <td>5</td>\n",
       "      <td>6</td>\n",
       "      <td>0</td>\n",
       "    </tr>\n",
       "    <tr>\n",
       "      <th>8</th>\n",
       "      <td>6</td>\n",
       "      <td>7</td>\n",
       "      <td>1</td>\n",
       "    </tr>\n",
       "    <tr>\n",
       "      <th>9</th>\n",
       "      <td>6</td>\n",
       "      <td>8</td>\n",
       "      <td>1</td>\n",
       "    </tr>\n",
       "  </tbody>\n",
       "</table>\n",
       "</div>"
      ],
      "text/plain": [
       "   n1  n2  e\n",
       "0   1   1  0\n",
       "1   1   2  1\n",
       "2   1   3  0\n",
       "3   2   1  0\n",
       "4   3   4  0\n",
       "5   3   4  0\n",
       "6   4   5  0\n",
       "7   5   6  0\n",
       "8   6   7  1\n",
       "9   6   8  1"
      ]
     },
     "execution_count": 19,
     "metadata": {},
     "output_type": "execute_result"
    }
   ],
   "source": [
    "#getting rid of the timestamp\n",
    "df_no_time = df.drop('timestamp', axis=1)\n",
    "df_no_time.to_csv('escorts.csv', index =False, header=False)\n",
    "\n",
    "df_no_time.head(10)"
   ]
  },
  {
   "cell_type": "code",
   "execution_count": 20,
   "metadata": {},
   "outputs": [
    {
     "name": "stdout",
     "output_type": "stream",
     "text": [
      "numbers of buyers: 10106\n",
      "numbers of escorts: 6624\n"
     ]
    }
   ],
   "source": [
    "#finding unique number of buyers and escorts\n",
    "buyers = df.n1.unique().tolist()\n",
    "escorts = df.n2.unique().tolist()\n",
    "\n",
    "print(f'numbers of buyers: {len(buyers)}')\n",
    "print(f'numbers of escorts: {len(escorts)}')\n"
   ]
  },
  {
   "cell_type": "code",
   "execution_count": 21,
   "metadata": {},
   "outputs": [
    {
     "data": {
      "text/html": [
       "<div>\n",
       "<style scoped>\n",
       "    .dataframe tbody tr th:only-of-type {\n",
       "        vertical-align: middle;\n",
       "    }\n",
       "\n",
       "    .dataframe tbody tr th {\n",
       "        vertical-align: top;\n",
       "    }\n",
       "\n",
       "    .dataframe thead th {\n",
       "        text-align: right;\n",
       "    }\n",
       "</style>\n",
       "<table border=\"1\" class=\"dataframe\">\n",
       "  <thead>\n",
       "    <tr style=\"text-align: right;\">\n",
       "      <th></th>\n",
       "      <th>index</th>\n",
       "    </tr>\n",
       "  </thead>\n",
       "  <tbody>\n",
       "    <tr>\n",
       "      <th>0</th>\n",
       "      <td>2283</td>\n",
       "    </tr>\n",
       "    <tr>\n",
       "      <th>1</th>\n",
       "      <td>244</td>\n",
       "    </tr>\n",
       "    <tr>\n",
       "      <th>2</th>\n",
       "      <td>4205</td>\n",
       "    </tr>\n",
       "    <tr>\n",
       "      <th>3</th>\n",
       "      <td>617</td>\n",
       "    </tr>\n",
       "    <tr>\n",
       "      <th>4</th>\n",
       "      <td>1443</td>\n",
       "    </tr>\n",
       "    <tr>\n",
       "      <th>5</th>\n",
       "      <td>2873</td>\n",
       "    </tr>\n",
       "    <tr>\n",
       "      <th>6</th>\n",
       "      <td>1223</td>\n",
       "    </tr>\n",
       "    <tr>\n",
       "      <th>7</th>\n",
       "      <td>8047</td>\n",
       "    </tr>\n",
       "    <tr>\n",
       "      <th>8</th>\n",
       "      <td>3348</td>\n",
       "    </tr>\n",
       "    <tr>\n",
       "      <th>9</th>\n",
       "      <td>1084</td>\n",
       "    </tr>\n",
       "  </tbody>\n",
       "</table>\n",
       "</div>"
      ],
      "text/plain": [
       "   index\n",
       "0   2283\n",
       "1    244\n",
       "2   4205\n",
       "3    617\n",
       "4   1443\n",
       "5   2873\n",
       "6   1223\n",
       "7   8047\n",
       "8   3348\n",
       "9   1084"
      ]
     },
     "execution_count": 21,
     "metadata": {},
     "output_type": "execute_result"
    }
   ],
   "source": [
    "pop_buyers = df_no_time['n1'].value_counts().reset_index()\n",
    "# pop_escorts = df_no_time['n2'].value_counts().to_frame()\n",
    "\n",
    "pop_buyers.iloc[:10, 0:1]"
   ]
  },
  {
   "cell_type": "code",
   "execution_count": 22,
   "metadata": {},
   "outputs": [],
   "source": [
    "#finding most popular buyers(biggest amount of payments) and escorts(how many times visited)\n",
    "#we need to observe that the escorts that had less buyers and had rating of 1, will have better scores than the most visited ones\n",
    "#so we need to normalize it\n",
    "\n",
    "#Making dataframe of popular buyers and popular escorts\n",
    "pop_buyers = df_no_time['n1'].value_counts().reset_index()\n",
    "pop_escorts = df_no_time['n2'].value_counts().reset_index()\n",
    "\n",
    "#Making list of the 10 most popular buyers\n",
    "b_top10 = pop_buyers['index'].head(10).tolist()\n",
    " \n",
    "#Making list of the 10 most popular escorts\n",
    "e_top10 = pop_escorts['index'].head(10).tolist()"
   ]
  },
  {
   "cell_type": "code",
   "execution_count": 23,
   "metadata": {},
   "outputs": [
    {
     "name": "stdout",
     "output_type": "stream",
     "text": [
      "{11: 0.98, 1565: 0.992, 1443: 0.96, 41: 0.942, 1345: 0.968, 2845: 0.977, 2470: 0.98, 1569: 0.953, 2799: 0.983, 503: 0.955}\n"
     ]
    }
   ],
   "source": [
    "\n",
    "#Dictionary of average rating of most vistied escorts (top 10 degrees)\n",
    "#Key: ID of escort\n",
    "#Value: Average rating\n",
    "avg = {}\n",
    "for escort in e_top10:\n",
    "    most_pop_esc = df_no_time[df_no_time['n2'] == escort]\n",
    "    ratings = most_pop_esc['e'].tolist()\n",
    "    avg[escort] = round(sum(ratings)/len(ratings), 3)\n",
    "\n",
    "print(avg)"
   ]
  },
  {
   "cell_type": "code",
   "execution_count": 24,
   "metadata": {},
   "outputs": [],
   "source": [
    "#Creating network object of the network\n",
    "\n",
    "G = nx.from_pandas_edgelist(df_no_time, 'n1', 'n2', 'e')"
   ]
  },
  {
   "cell_type": "code",
   "execution_count": 25,
   "metadata": {},
   "outputs": [
    {
     "name": "stdout",
     "output_type": "stream",
     "text": [
      "39024\n",
      "10106\n",
      "50632\n",
      "5.0100930140510584\n",
      "7.643719806763285\n",
      "0.7426923684626323\n",
      "True\n"
     ]
    }
   ],
   "source": [
    "print(G.size()) #unique edge count\n",
    "print(G.number_of_nodes())\n",
    "print(df_no_time.shape[0]) #total number of rows (numebr of encounters)\n",
    "print(pop_buyers['n1'].mean()) #average degree of buyers (how many escorts they rated)\n",
    "print(pop_escorts['n2'].mean()) #average degreee of escorts (how many times they've been rated)\n",
    "print(df_no_time['e'].mean()) #average rating (most of them satisfied ;))\n",
    "print(nx.is_connected(G)) "
   ]
  },
  {
   "cell_type": "code",
   "execution_count": 26,
   "metadata": {},
   "outputs": [
    {
     "name": "stdout",
     "output_type": "stream",
     "text": [
      "39024\n",
      "0\n"
     ]
    }
   ],
   "source": [
    "#Largest Connected Component\n",
    "Gcc = sorted(nx.connected_components(G), key=len, reverse=True)\n",
    "LCC = G.subgraph(Gcc[0])\n",
    "print(LCC.size())\n",
    "print(G.size() - LCC.size()) #how many unique edges are out of the LCC"
   ]
  },
  {
   "cell_type": "code",
   "execution_count": 27,
   "metadata": {},
   "outputs": [
    {
     "data": {
      "text/html": [
       "<div>\n",
       "<style scoped>\n",
       "    .dataframe tbody tr th:only-of-type {\n",
       "        vertical-align: middle;\n",
       "    }\n",
       "\n",
       "    .dataframe tbody tr th {\n",
       "        vertical-align: top;\n",
       "    }\n",
       "\n",
       "    .dataframe thead th {\n",
       "        text-align: right;\n",
       "    }\n",
       "</style>\n",
       "<table border=\"1\" class=\"dataframe\">\n",
       "  <thead>\n",
       "    <tr style=\"text-align: right;\">\n",
       "      <th></th>\n",
       "      <th>n1</th>\n",
       "      <th>n2</th>\n",
       "      <th>e</th>\n",
       "    </tr>\n",
       "  </thead>\n",
       "  <tbody>\n",
       "    <tr>\n",
       "      <th>0</th>\n",
       "      <td>a1</td>\n",
       "      <td>b1</td>\n",
       "      <td>0</td>\n",
       "    </tr>\n",
       "    <tr>\n",
       "      <th>1</th>\n",
       "      <td>a1</td>\n",
       "      <td>b2</td>\n",
       "      <td>1</td>\n",
       "    </tr>\n",
       "    <tr>\n",
       "      <th>2</th>\n",
       "      <td>a1</td>\n",
       "      <td>b3</td>\n",
       "      <td>0</td>\n",
       "    </tr>\n",
       "    <tr>\n",
       "      <th>3</th>\n",
       "      <td>a2</td>\n",
       "      <td>b1</td>\n",
       "      <td>0</td>\n",
       "    </tr>\n",
       "    <tr>\n",
       "      <th>4</th>\n",
       "      <td>a3</td>\n",
       "      <td>b4</td>\n",
       "      <td>0</td>\n",
       "    </tr>\n",
       "  </tbody>\n",
       "</table>\n",
       "</div>"
      ],
      "text/plain": [
       "   n1  n2  e\n",
       "0  a1  b1  0\n",
       "1  a1  b2  1\n",
       "2  a1  b3  0\n",
       "3  a2  b1  0\n",
       "4  a3  b4  0"
      ]
     },
     "execution_count": 27,
     "metadata": {},
     "output_type": "execute_result"
    }
   ],
   "source": [
    "#creating different IDs for buyers(a) and escorts(b), so the nx function could read it\n",
    "# df_no_time['n1'] = df_no_time['n1'].apply(lambda x: 'a' + x)\n",
    "df_no_time['n1'] = 'a' + df_no_time['n1'].astype(str)\n",
    "\n",
    "df_no_time['n2'] = 'b' + df_no_time['n2'].astype(str)\n",
    "df_no_time.head()"
   ]
  },
  {
   "cell_type": "code",
   "execution_count": 28,
   "metadata": {},
   "outputs": [],
   "source": [
    "#projecting the bipartite graph using vectorized projection\n",
    "G = nx.from_pandas_edgelist(df_no_time, 'n1', 'n2', 'e')\n",
    "nx.is_bipartite(G)\n",
    "proj_G = nx.bipartite.weighted_projected_graph(G, nodes = df_no_time.n2.unique()) #is it simple weights or vectorized?"
   ]
  },
  {
   "cell_type": "code",
   "execution_count": 29,
   "metadata": {},
   "outputs": [
    {
     "name": "stdout",
     "output_type": "stream",
     "text": [
      "183465\n",
      "6624\n"
     ]
    }
   ],
   "source": [
    "#basic network analysis on projected network\n",
    "# proj_G.size() #num of edges\n",
    "print(proj_G.number_of_edges())\n",
    "print(proj_G.number_of_nodes())"
   ]
  }
 ],
 "metadata": {
  "kernelspec": {
   "display_name": "base",
   "language": "python",
   "name": "python3"
  },
  "language_info": {
   "codemirror_mode": {
    "name": "ipython",
    "version": 3
   },
   "file_extension": ".py",
   "mimetype": "text/x-python",
   "name": "python",
   "nbconvert_exporter": "python",
   "pygments_lexer": "ipython3",
   "version": "3.9.12"
  },
  "orig_nbformat": 4,
  "vscode": {
   "interpreter": {
    "hash": "56941cacf15e8b05765996006082865469347c2b4cdce983108d1335de8b4245"
   }
  }
 },
 "nbformat": 4,
 "nbformat_minor": 2
}
