{
 "cells": [
  {
   "cell_type": "code",
   "execution_count": 1,
   "metadata": {},
   "outputs": [],
   "source": [
    "import networkx as nx\n",
    "import pandas as pd \n",
    "import matplotlib.pyplot as plt"
   ]
  },
  {
   "cell_type": "code",
   "execution_count": 2,
   "metadata": {},
   "outputs": [],
   "source": [
    "#reading the data\n",
    "df = pd.read_csv('escorts.txt', delim_whitespace=True, index_col=False)\n",
    "\n",
    "df_copy = df.copy()\n",
    "#creating new columns in df that adds: year, month and day\n",
    "df_copy['datetime'] = pd.to_datetime(df_copy['timestamp'], unit='s')\n",
    "\n",
    "df_copy['year'] = df_copy['datetime'].dt.year\n",
    "df_copy['month'] = df_copy['datetime'].dt.month\n",
    "df_copy['day'] = df_copy['datetime'].dt.day\n",
    "\n",
    "#dropping column datetime\n",
    "df_copy = df_copy.drop(columns=['datetime'])\n"
   ]
  },
  {
   "cell_type": "code",
   "execution_count": 3,
   "metadata": {},
   "outputs": [
    {
     "data": {
      "text/html": [
       "<div>\n",
       "<style scoped>\n",
       "    .dataframe tbody tr th:only-of-type {\n",
       "        vertical-align: middle;\n",
       "    }\n",
       "\n",
       "    .dataframe tbody tr th {\n",
       "        vertical-align: top;\n",
       "    }\n",
       "\n",
       "    .dataframe thead th {\n",
       "        text-align: right;\n",
       "    }\n",
       "</style>\n",
       "<table border=\"1\" class=\"dataframe\">\n",
       "  <thead>\n",
       "    <tr style=\"text-align: right;\">\n",
       "      <th></th>\n",
       "      <th>n1</th>\n",
       "      <th>n2</th>\n",
       "      <th>e</th>\n",
       "    </tr>\n",
       "  </thead>\n",
       "  <tbody>\n",
       "    <tr>\n",
       "      <th>0</th>\n",
       "      <td>1</td>\n",
       "      <td>1</td>\n",
       "      <td>0</td>\n",
       "    </tr>\n",
       "    <tr>\n",
       "      <th>1</th>\n",
       "      <td>1</td>\n",
       "      <td>2</td>\n",
       "      <td>1</td>\n",
       "    </tr>\n",
       "    <tr>\n",
       "      <th>2</th>\n",
       "      <td>1</td>\n",
       "      <td>3</td>\n",
       "      <td>0</td>\n",
       "    </tr>\n",
       "    <tr>\n",
       "      <th>3</th>\n",
       "      <td>2</td>\n",
       "      <td>1</td>\n",
       "      <td>0</td>\n",
       "    </tr>\n",
       "    <tr>\n",
       "      <th>4</th>\n",
       "      <td>3</td>\n",
       "      <td>4</td>\n",
       "      <td>0</td>\n",
       "    </tr>\n",
       "    <tr>\n",
       "      <th>5</th>\n",
       "      <td>3</td>\n",
       "      <td>4</td>\n",
       "      <td>0</td>\n",
       "    </tr>\n",
       "    <tr>\n",
       "      <th>6</th>\n",
       "      <td>4</td>\n",
       "      <td>5</td>\n",
       "      <td>0</td>\n",
       "    </tr>\n",
       "    <tr>\n",
       "      <th>7</th>\n",
       "      <td>5</td>\n",
       "      <td>6</td>\n",
       "      <td>0</td>\n",
       "    </tr>\n",
       "    <tr>\n",
       "      <th>8</th>\n",
       "      <td>6</td>\n",
       "      <td>7</td>\n",
       "      <td>1</td>\n",
       "    </tr>\n",
       "    <tr>\n",
       "      <th>9</th>\n",
       "      <td>6</td>\n",
       "      <td>8</td>\n",
       "      <td>1</td>\n",
       "    </tr>\n",
       "  </tbody>\n",
       "</table>\n",
       "</div>"
      ],
      "text/plain": [
       "   n1  n2  e\n",
       "0   1   1  0\n",
       "1   1   2  1\n",
       "2   1   3  0\n",
       "3   2   1  0\n",
       "4   3   4  0\n",
       "5   3   4  0\n",
       "6   4   5  0\n",
       "7   5   6  0\n",
       "8   6   7  1\n",
       "9   6   8  1"
      ]
     },
     "execution_count": 3,
     "metadata": {},
     "output_type": "execute_result"
    }
   ],
   "source": [
    "#getting rid of the timestamp\n",
    "df_no_time = df.drop('timestamp', axis=1)\n",
    "df_no_time.to_csv('escorts.csv', index =False, header=False)\n",
    "\n",
    "df_no_time.head(10)"
   ]
  },
  {
   "cell_type": "code",
   "execution_count": 4,
   "metadata": {},
   "outputs": [
    {
     "name": "stdout",
     "output_type": "stream",
     "text": [
      "numbers of buyers: 10106\n",
      "numbers of escorts: 6624\n"
     ]
    }
   ],
   "source": [
    "#finding unique number of buyers and escorts\n",
    "buyers = df.n1.unique().tolist()\n",
    "escorts = df.n2.unique().tolist()\n",
    "\n",
    "print(f'numbers of buyers: {len(buyers)}')\n",
    "print(f'numbers of escorts: {len(escorts)}')\n"
   ]
  },
  {
   "cell_type": "code",
   "execution_count": 5,
   "metadata": {},
   "outputs": [
    {
     "data": {
      "text/html": [
       "<div>\n",
       "<style scoped>\n",
       "    .dataframe tbody tr th:only-of-type {\n",
       "        vertical-align: middle;\n",
       "    }\n",
       "\n",
       "    .dataframe tbody tr th {\n",
       "        vertical-align: top;\n",
       "    }\n",
       "\n",
       "    .dataframe thead th {\n",
       "        text-align: right;\n",
       "    }\n",
       "</style>\n",
       "<table border=\"1\" class=\"dataframe\">\n",
       "  <thead>\n",
       "    <tr style=\"text-align: right;\">\n",
       "      <th></th>\n",
       "      <th>index</th>\n",
       "    </tr>\n",
       "  </thead>\n",
       "  <tbody>\n",
       "    <tr>\n",
       "      <th>0</th>\n",
       "      <td>2283</td>\n",
       "    </tr>\n",
       "    <tr>\n",
       "      <th>1</th>\n",
       "      <td>244</td>\n",
       "    </tr>\n",
       "    <tr>\n",
       "      <th>2</th>\n",
       "      <td>4205</td>\n",
       "    </tr>\n",
       "    <tr>\n",
       "      <th>3</th>\n",
       "      <td>617</td>\n",
       "    </tr>\n",
       "    <tr>\n",
       "      <th>4</th>\n",
       "      <td>1443</td>\n",
       "    </tr>\n",
       "    <tr>\n",
       "      <th>5</th>\n",
       "      <td>2873</td>\n",
       "    </tr>\n",
       "    <tr>\n",
       "      <th>6</th>\n",
       "      <td>1223</td>\n",
       "    </tr>\n",
       "    <tr>\n",
       "      <th>7</th>\n",
       "      <td>8047</td>\n",
       "    </tr>\n",
       "    <tr>\n",
       "      <th>8</th>\n",
       "      <td>3348</td>\n",
       "    </tr>\n",
       "    <tr>\n",
       "      <th>9</th>\n",
       "      <td>1084</td>\n",
       "    </tr>\n",
       "  </tbody>\n",
       "</table>\n",
       "</div>"
      ],
      "text/plain": [
       "   index\n",
       "0   2283\n",
       "1    244\n",
       "2   4205\n",
       "3    617\n",
       "4   1443\n",
       "5   2873\n",
       "6   1223\n",
       "7   8047\n",
       "8   3348\n",
       "9   1084"
      ]
     },
     "execution_count": 5,
     "metadata": {},
     "output_type": "execute_result"
    }
   ],
   "source": [
    "pop_buyers = df_no_time['n1'].value_counts().reset_index()\n",
    "# pop_escorts = df_no_time['n2'].value_counts().to_frame()\n",
    "\n",
    "pop_buyers.iloc[:10, 0:1]"
   ]
  },
  {
   "cell_type": "code",
   "execution_count": 6,
   "metadata": {},
   "outputs": [],
   "source": [
    "#finding most popular buyers(biggest amount of payments) and escorts(how many times visited)\n",
    "#we need to observe that the escorts that had less buyers and had rating of 1, will have better scores than the most visited ones\n",
    "#so we need to normalize it\n",
    "\n",
    "#Making dataframe of popular buyers and popular escorts\n",
    "pop_buyers = df_no_time['n1'].value_counts().reset_index()\n",
    "pop_escorts = df_no_time['n2'].value_counts().reset_index()\n",
    "\n",
    "#Making list of the 10 most popular buyers\n",
    "b_top10 = pop_buyers['index'].head(10).tolist()\n",
    " \n",
    "#Making list of the 10 most popular escorts\n",
    "e_top10 = pop_escorts['index'].head(10).tolist()"
   ]
  },
  {
   "cell_type": "code",
   "execution_count": 7,
   "metadata": {},
   "outputs": [
    {
     "name": "stdout",
     "output_type": "stream",
     "text": [
      "{11: 0.98, 1565: 0.992, 1443: 0.96, 41: 0.942, 1345: 0.968, 2845: 0.977, 2470: 0.98, 1569: 0.953, 2799: 0.983, 503: 0.955}\n"
     ]
    }
   ],
   "source": [
    "\n",
    "#Dictionary of average rating of most vistied escorts (top 10 degrees)\n",
    "#Key: ID of escort\n",
    "#Value: Average rating\n",
    "avg = {}\n",
    "for escort in e_top10:\n",
    "    most_pop_esc = df_no_time[df_no_time['n2'] == escort]\n",
    "    ratings = most_pop_esc['e'].tolist()\n",
    "    avg[escort] = round(sum(ratings)/len(ratings), 3)\n",
    "\n",
    "print(avg)"
   ]
  },
  {
   "cell_type": "code",
   "execution_count": 8,
   "metadata": {},
   "outputs": [],
   "source": [
    "#Creating network object of the network\n",
    "\n",
    "G = nx.from_pandas_edgelist(df_no_time, 'n1', 'n2', 'e')"
   ]
  },
  {
   "cell_type": "code",
   "execution_count": 9,
   "metadata": {},
   "outputs": [
    {
     "name": "stdout",
     "output_type": "stream",
     "text": [
      "39024\n",
      "10106\n",
      "50632\n",
      "5.0100930140510584\n",
      "7.643719806763285\n",
      "0.7426923684626323\n",
      "True\n"
     ]
    }
   ],
   "source": [
    "print(G.size()) #unique edge count\n",
    "print(G.number_of_nodes())\n",
    "print(df_no_time.shape[0]) #total number of rows (numebr of encounters)\n",
    "print(pop_buyers['n1'].mean()) #average degree of buyers (how many escorts they rated)\n",
    "print(pop_escorts['n2'].mean()) #average degreee of escorts (how many times they've been rated)\n",
    "print(df_no_time['e'].mean()) #average rating (most of them satisfied ;))\n",
    "print(nx.is_connected(G)) "
   ]
  },
  {
   "cell_type": "code",
   "execution_count": 10,
   "metadata": {},
   "outputs": [
    {
     "name": "stdout",
     "output_type": "stream",
     "text": [
      "39024\n",
      "0\n"
     ]
    }
   ],
   "source": [
    "#Largest Connected Component\n",
    "Gcc = sorted(nx.connected_components(G), key=len, reverse=True)\n",
    "LCC = G.subgraph(Gcc[0])\n",
    "print(LCC.size())\n",
    "print(G.size() - LCC.size()) #how many unique edges are out of the LCC"
   ]
  },
  {
   "cell_type": "code",
   "execution_count": 11,
   "metadata": {},
   "outputs": [
    {
     "name": "stdout",
     "output_type": "stream",
     "text": [
      "-11588\n",
      "50632\n"
     ]
    }
   ],
   "source": [
    "#creating different IDs for buyers(a) and escorts(b), so the nx function could read it\n",
    "# df_no_time['n1'] = df_no_time['n1'].apply(lambda x: 'a' + x)\n",
    "df_no_time['n1'] = 'a' + df_no_time['n1'].astype(str)\n",
    "\n",
    "df_no_time['n2'] = 'b' + df_no_time['n2'].astype(str)\n",
    "df_no_time.head()\n",
    "\n",
    "#collapsing the edges where one buyer rated the same girl more than 1 time\n",
    "main_df = df_no_time.groupby(['n1', 'n2'], as_index=False).mean()\n",
    "\n",
    "print(len(main_df)-len(df_no_time))\n",
    "print(len(df_no_time))\n",
    "\n",
    "# main_df[(main_df['n1'] == \"a2283\")] #yes, it creates the means if they went to more than one escort"
   ]
  },
  {
   "cell_type": "code",
   "execution_count": 12,
   "metadata": {},
   "outputs": [],
   "source": [
    "#projecting the bipartite graph using vectorized projection\n",
    "G = nx.from_pandas_edgelist(main_df, 'n1', 'n2', 'e')\n",
    "nx.is_bipartite(G)\n",
    "proj_G = nx.bipartite.weighted_projected_graph(G, nodes = main_df.n2.unique(), ratio=True) #ratio is number of common neighbors devided by number of buyers"
   ]
  },
  {
   "cell_type": "code",
   "execution_count": 13,
   "metadata": {},
   "outputs": [
    {
     "name": "stdout",
     "output_type": "stream",
     "text": [
      "183465\n",
      "6624\n",
      "0.008363886718878218\n",
      "{'weight': 0.0006926578270334455}\n"
     ]
    }
   ],
   "source": [
    "#basic network analysis on projected network\n",
    "# proj_G.size() #num of edges\n",
    "print(proj_G.number_of_edges())\n",
    "print(proj_G.number_of_nodes())\n",
    "#density it's a range 0-1\n",
    "print(nx.density(proj_G)) #quite sparse \n",
    "\n",
    "print(proj_G.edges['b1','b2']) "
   ]
  },
  {
   "cell_type": "code",
   "execution_count": 14,
   "metadata": {},
   "outputs": [
    {
     "name": "stdout",
     "output_type": "stream",
     "text": [
      "9.895111814763506e-05\n",
      "0.059637838907579656\n"
     ]
    }
   ],
   "source": [
    "# idea: in order to create more fair rating of escorts (normalize the retings) average the weights of edges of a specific node and\n",
    "# use it as a weights to use on averaged rating on the node.\n",
    "# this doesn't work, because it'd favor the most visited nodes\n",
    "\n",
    "x = (len(G) - len(main_df.n2.unique())) #ratio=True when we project th network\n",
    "rat1 = 1/x\n",
    "rat600 = 615/x\n",
    "\n",
    "#example scores\n",
    "print(1*rat1)\n",
    "print(0.98*rat600)"
   ]
  },
  {
   "cell_type": "code",
   "execution_count": 15,
   "metadata": {},
   "outputs": [
    {
     "name": "stdout",
     "output_type": "stream",
     "text": [
      "0.6666666666666666\n",
      "0.9784116693679092\n",
      "0.39607843137254906\n"
     ]
    }
   ],
   "source": [
    "rat1 = 2/3\n",
    "rat600 = 616/617\n",
    "rat = 101/102\n",
    "\n",
    "print(1*rat1)\n",
    "print(0.98*rat600)\n",
    "print(0.4*rat)"
   ]
  },
  {
   "cell_type": "markdown",
   "metadata": {},
   "source": [
    "### Laplace's Rule of Succesion "
   ]
  },
  {
   "cell_type": "code",
   "execution_count": 16,
   "metadata": {},
   "outputs": [],
   "source": [
    "# Define Laplace's Rule of Succession function with weighted ratings\n",
    "def laplace_rule_of_succession(df, rating_weights={'positive': 1, 'neutral': 0.5, 'negative': -1}):\n",
    "    # Calculate the total number of reviews for each escort\n",
    "    reviews_count = df.groupby('n2')['e'].count().reset_index()\n",
    "    reviews_count.rename(columns={'e': 'TotalReviews'}, inplace=True)\n",
    "\n",
    "    # Calculate the total weight for each escort\n",
    "    weighted_reviews = df.groupby(['n2'])['e'].sum().reset_index()\n",
    "    weighted_reviews.rename(columns={'e': 'TotalWeight'}, inplace=True)\n",
    "\n",
    "    # Merge the weight information back into the main dataframe\n",
    "    df = pd.merge(df, reviews_count, on='n2', how='left')\n",
    "    df = pd.merge(df, weighted_reviews, on='n2', how='left')\n",
    "\n",
    "    # Calculate Laplace-adjusted ratings with weighted ratings\n",
    "    df['LaplaceAdjustedRating'] = (df['TotalWeight'] + rating_weights['positive']) / (df['TotalReviews'] + sum(rating_weights.values()))\n",
    "\n",
    "    return df\n",
    "\n"
   ]
  },
  {
   "cell_type": "code",
   "execution_count": 17,
   "metadata": {},
   "outputs": [
    {
     "data": {
      "text/html": [
       "<div>\n",
       "<style scoped>\n",
       "    .dataframe tbody tr th:only-of-type {\n",
       "        vertical-align: middle;\n",
       "    }\n",
       "\n",
       "    .dataframe tbody tr th {\n",
       "        vertical-align: top;\n",
       "    }\n",
       "\n",
       "    .dataframe thead th {\n",
       "        text-align: right;\n",
       "    }\n",
       "</style>\n",
       "<table border=\"1\" class=\"dataframe\">\n",
       "  <thead>\n",
       "    <tr style=\"text-align: right;\">\n",
       "      <th></th>\n",
       "      <th>n1</th>\n",
       "      <th>n2</th>\n",
       "      <th>e</th>\n",
       "      <th>TotalReviews</th>\n",
       "      <th>TotalWeight</th>\n",
       "      <th>LaplaceAdjustedRating</th>\n",
       "    </tr>\n",
       "  </thead>\n",
       "  <tbody>\n",
       "    <tr>\n",
       "      <th>0</th>\n",
       "      <td>a1</td>\n",
       "      <td>b1</td>\n",
       "      <td>0.0</td>\n",
       "      <td>47</td>\n",
       "      <td>18.50</td>\n",
       "      <td>0.410526</td>\n",
       "    </tr>\n",
       "    <tr>\n",
       "      <th>1</th>\n",
       "      <td>a1</td>\n",
       "      <td>b1057</td>\n",
       "      <td>-1.0</td>\n",
       "      <td>83</td>\n",
       "      <td>65.25</td>\n",
       "      <td>0.793413</td>\n",
       "    </tr>\n",
       "    <tr>\n",
       "      <th>2</th>\n",
       "      <td>a1</td>\n",
       "      <td>b12</td>\n",
       "      <td>0.0</td>\n",
       "      <td>85</td>\n",
       "      <td>65.00</td>\n",
       "      <td>0.771930</td>\n",
       "    </tr>\n",
       "    <tr>\n",
       "      <th>3</th>\n",
       "      <td>a1</td>\n",
       "      <td>b130</td>\n",
       "      <td>-1.0</td>\n",
       "      <td>16</td>\n",
       "      <td>-9.00</td>\n",
       "      <td>-0.484848</td>\n",
       "    </tr>\n",
       "    <tr>\n",
       "      <th>4</th>\n",
       "      <td>a1</td>\n",
       "      <td>b1340</td>\n",
       "      <td>-1.0</td>\n",
       "      <td>63</td>\n",
       "      <td>46.00</td>\n",
       "      <td>0.740157</td>\n",
       "    </tr>\n",
       "    <tr>\n",
       "      <th>...</th>\n",
       "      <td>...</td>\n",
       "      <td>...</td>\n",
       "      <td>...</td>\n",
       "      <td>...</td>\n",
       "      <td>...</td>\n",
       "      <td>...</td>\n",
       "    </tr>\n",
       "    <tr>\n",
       "      <th>39039</th>\n",
       "      <td>a9996</td>\n",
       "      <td>b1503</td>\n",
       "      <td>1.0</td>\n",
       "      <td>36</td>\n",
       "      <td>28.00</td>\n",
       "      <td>0.794521</td>\n",
       "    </tr>\n",
       "    <tr>\n",
       "      <th>39040</th>\n",
       "      <td>a9997</td>\n",
       "      <td>b125</td>\n",
       "      <td>1.0</td>\n",
       "      <td>22</td>\n",
       "      <td>22.00</td>\n",
       "      <td>1.022222</td>\n",
       "    </tr>\n",
       "    <tr>\n",
       "      <th>39041</th>\n",
       "      <td>a9998</td>\n",
       "      <td>b1569</td>\n",
       "      <td>1.0</td>\n",
       "      <td>270</td>\n",
       "      <td>252.00</td>\n",
       "      <td>0.935305</td>\n",
       "    </tr>\n",
       "    <tr>\n",
       "      <th>39042</th>\n",
       "      <td>a9998</td>\n",
       "      <td>b4791</td>\n",
       "      <td>1.0</td>\n",
       "      <td>22</td>\n",
       "      <td>21.00</td>\n",
       "      <td>0.977778</td>\n",
       "    </tr>\n",
       "    <tr>\n",
       "      <th>39043</th>\n",
       "      <td>a9999</td>\n",
       "      <td>b6051</td>\n",
       "      <td>1.0</td>\n",
       "      <td>10</td>\n",
       "      <td>8.00</td>\n",
       "      <td>0.857143</td>\n",
       "    </tr>\n",
       "  </tbody>\n",
       "</table>\n",
       "<p>39044 rows × 6 columns</p>\n",
       "</div>"
      ],
      "text/plain": [
       "          n1     n2    e  TotalReviews  TotalWeight  LaplaceAdjustedRating\n",
       "0         a1     b1  0.0            47        18.50               0.410526\n",
       "1         a1  b1057 -1.0            83        65.25               0.793413\n",
       "2         a1    b12  0.0            85        65.00               0.771930\n",
       "3         a1   b130 -1.0            16        -9.00              -0.484848\n",
       "4         a1  b1340 -1.0            63        46.00               0.740157\n",
       "...      ...    ...  ...           ...          ...                    ...\n",
       "39039  a9996  b1503  1.0            36        28.00               0.794521\n",
       "39040  a9997   b125  1.0            22        22.00               1.022222\n",
       "39041  a9998  b1569  1.0           270       252.00               0.935305\n",
       "39042  a9998  b4791  1.0            22        21.00               0.977778\n",
       "39043  a9999  b6051  1.0            10         8.00               0.857143\n",
       "\n",
       "[39044 rows x 6 columns]"
      ]
     },
     "execution_count": 17,
     "metadata": {},
     "output_type": "execute_result"
    }
   ],
   "source": [
    "df_test = laplace_rule_of_succession(main_df)\n",
    "df_test"
   ]
  },
  {
   "cell_type": "markdown",
   "metadata": {},
   "source": [
    "## Degree distribution"
   ]
  },
  {
   "cell_type": "markdown",
   "metadata": {},
   "source": [
    "### Cumulative degree distribution"
   ]
  },
  {
   "cell_type": "code",
   "execution_count": 18,
   "metadata": {},
   "outputs": [],
   "source": [
    "degree_sequence = sorted([d for n, d in G.degree()], reverse=True) #the degree of each nod"
   ]
  },
  {
   "cell_type": "code",
   "execution_count": 19,
   "metadata": {},
   "outputs": [],
   "source": [
    "# accumulating the degrees from highest to lowest\n",
    "cumulative_degrees = [degree_sequence[:i].count(degree) for i, degree in enumerate(degree_sequence)]"
   ]
  },
  {
   "cell_type": "code",
   "execution_count": 20,
   "metadata": {},
   "outputs": [
    {
     "data": {
      "image/png": "[encoded data removed]",
      "text/plain": [
       "<Figure size 432x288 with 1 Axes>"
      ]
     },
     "metadata": {
      "needs_background": "light"
     },
     "output_type": "display_data"
    }
   ],
   "source": [
    "plt.plot(degree_sequence, cumulative_degrees, marker='o')\n",
    "plt.xlabel(\"Degree\")\n",
    "plt.ylabel(\"Cumulative Degree Distribution\")\n",
    "plt.title(\"Cumulative Degree Distribution\")\n",
    "plt.grid(True)\n",
    "plt.show()"
   ]
  },
  {
   "cell_type": "code",
   "execution_count": 21,
   "metadata": {},
   "outputs": [
    {
     "data": {
      "image/png": "[encoded data removed]",
      "text/plain": [
       "<Figure size 432x288 with 1 Axes>"
      ]
     },
     "metadata": {
      "needs_background": "light"
     },
     "output_type": "display_data"
    }
   ],
   "source": [
    "#plotting degree distribution of escorts\n",
    "escort_degrees = dict(proj_G.degree())\n",
    "\n",
    "plt.hist(escort_degrees.values(), bins=60, alpha=0.5, label='Escorts')\n",
    "plt.xscale('log')\n",
    "plt.xlabel('Degree')\n",
    "plt.ylabel('Frequency')\n",
    "plt.legend()\n",
    "plt.show()"
   ]
  },
  {
   "cell_type": "code",
   "execution_count": 22,
   "metadata": {},
   "outputs": [
    {
     "data": {
      "image/png": "[encoded data removed]",
      "text/plain": [
       "<Figure size 432x288 with 1 Axes>"
      ]
     },
     "metadata": {
      "needs_background": "light"
     },
     "output_type": "display_data"
    }
   ],
   "source": [
    "proj_G_b = nx.bipartite.weighted_projected_graph(G, nodes = main_df.n1.unique(), ratio=True)\n",
    "buyers_degrees = dict(proj_G_b.degree())\n",
    "\n",
    "plt.hist(buyers_degrees.values(), bins=60, alpha=0.5, label='Buyers')\n",
    "plt.xscale('log')\n",
    "plt.xlabel('Degree')\n",
    "plt.ylabel('Frequency')\n",
    "plt.legend()\n",
    "plt.show()"
   ]
  },
  {
   "cell_type": "code",
   "execution_count": 23,
   "metadata": {},
   "outputs": [
    {
     "name": "stdout",
     "output_type": "stream",
     "text": [
      "385\n"
     ]
    }
   ],
   "source": [
    "#number of singletons\n",
    "degrees = nx.degree(proj_G)\n",
    "\n",
    "n = 0\n",
    "for key, value in degrees:\n",
    "    if value == 0:\n",
    "        n += 1\n",
    "print(n)"
   ]
  },
  {
   "cell_type": "markdown",
   "metadata": {},
   "source": [
    "# Calculating centralities to detect the hubs of the network"
   ]
  },
  {
   "cell_type": "code",
   "execution_count": 24,
   "metadata": {},
   "outputs": [
    {
     "data": {
      "text/plain": [
       "{'b1569': 0.14993205495998793,\n",
       " 'b1565': 0.14857315415974634,\n",
       " 'b1443': 0.1378529367356183,\n",
       " 'b2840': 0.13392722331269818,\n",
       " 'b4116': 0.13196436660123811,\n",
       " 'b11': 0.1274346972670995,\n",
       " 'b41': 0.12260304997735166,\n",
       " 'b4464': 0.12124414917711007,\n",
       " 'b2470': 0.11807338064321306,\n",
       " 'b3096': 0.11731843575418995}"
      ]
     },
     "execution_count": 24,
     "metadata": {},
     "output_type": "execute_result"
    }
   ],
   "source": [
    "d_cent = nx.degree_centrality(proj_G)\n",
    "d_c_sorted = {k: v for k, v in sorted(d_cent.items(), key=lambda item: item[1], reverse=True)[:10]}\n",
    "d_c_sorted"
   ]
  },
  {
   "cell_type": "code",
   "execution_count": 25,
   "metadata": {},
   "outputs": [
    {
     "ename": "KeyboardInterrupt",
     "evalue": "",
     "output_type": "error",
     "traceback": [
      "\u001b[0;31m---------------------------------------------------------------------------\u001b[0m",
      "\u001b[0;31mKeyboardInterrupt\u001b[0m                         Traceback (most recent call last)",
      "\u001b[1;32m/Users/chris/Desktop/ITU/3rdsem/NA/Network-Analysis/Escort/escort_analysis.ipynb Cell 29\u001b[0m in \u001b[0;36m<cell line: 1>\u001b[0;34m()\u001b[0m\n\u001b[0;32m----> <a href='vscode-notebook-cell:/Users/chris/Desktop/ITU/3rdsem/NA/Network-Analysis/Escort/escort_analysis.ipynb#X40sZmlsZQ%3D%3D?line=0'>1</a>\u001b[0m b_cent \u001b[39m=\u001b[39m nx\u001b[39m.\u001b[39;49mbetweenness_centrality(proj_G, k\u001b[39m=\u001b[39;49m\u001b[39m1000\u001b[39;49m)\n\u001b[1;32m      <a href='vscode-notebook-cell:/Users/chris/Desktop/ITU/3rdsem/NA/Network-Analysis/Escort/escort_analysis.ipynb#X40sZmlsZQ%3D%3D?line=1'>2</a>\u001b[0m b_c_sorted \u001b[39m=\u001b[39m {k: v \u001b[39mfor\u001b[39;00m k, v \u001b[39min\u001b[39;00m \u001b[39msorted\u001b[39m(b_cent\u001b[39m.\u001b[39mitems(), key\u001b[39m=\u001b[39m\u001b[39mlambda\u001b[39;00m item: item[\u001b[39m1\u001b[39m], reverse\u001b[39m=\u001b[39m\u001b[39mTrue\u001b[39;00m)[:\u001b[39m10\u001b[39m]}\n\u001b[1;32m      <a href='vscode-notebook-cell:/Users/chris/Desktop/ITU/3rdsem/NA/Network-Analysis/Escort/escort_analysis.ipynb#X40sZmlsZQ%3D%3D?line=2'>3</a>\u001b[0m b_c_sorted\n",
      "File \u001b[0;32m~/opt/anaconda3/lib/python3.9/site-packages/networkx/utils/decorators.py:816\u001b[0m, in \u001b[0;36margmap.__call__.<locals>.func\u001b[0;34m(_argmap__wrapper, *args, **kwargs)\u001b[0m\n\u001b[1;32m    815\u001b[0m \u001b[39mdef\u001b[39;00m \u001b[39mfunc\u001b[39m(\u001b[39m*\u001b[39margs, __wrapper\u001b[39m=\u001b[39m\u001b[39mNone\u001b[39;00m, \u001b[39m*\u001b[39m\u001b[39m*\u001b[39mkwargs):\n\u001b[0;32m--> 816\u001b[0m     \u001b[39mreturn\u001b[39;00m argmap\u001b[39m.\u001b[39;49m_lazy_compile(__wrapper)(\u001b[39m*\u001b[39;49margs, \u001b[39m*\u001b[39;49m\u001b[39m*\u001b[39;49mkwargs)\n",
      "File \u001b[0;32m<class 'networkx.utils.decorators.argmap'> compilation 20:4\u001b[0m, in \u001b[0;36margmap_betweenness_centrality_17\u001b[0;34m(G, k, normalized, weight, endpoints, seed)\u001b[0m\n\u001b[1;32m      2\u001b[0m \u001b[39mfrom\u001b[39;00m \u001b[39mos\u001b[39;00m\u001b[39m.\u001b[39;00m\u001b[39mpath\u001b[39;00m \u001b[39mimport\u001b[39;00m splitext\n\u001b[1;32m      3\u001b[0m \u001b[39mfrom\u001b[39;00m \u001b[39mcontextlib\u001b[39;00m \u001b[39mimport\u001b[39;00m contextmanager\n\u001b[0;32m----> 4\u001b[0m \u001b[39mfrom\u001b[39;00m \u001b[39mpathlib\u001b[39;00m \u001b[39mimport\u001b[39;00m Path\n\u001b[1;32m      6\u001b[0m \u001b[39mimport\u001b[39;00m \u001b[39mnetworkx\u001b[39;00m \u001b[39mas\u001b[39;00m \u001b[39mnx\u001b[39;00m\n\u001b[1;32m      7\u001b[0m \u001b[39mfrom\u001b[39;00m \u001b[39mnetworkx\u001b[39;00m\u001b[39m.\u001b[39;00m\u001b[39mutils\u001b[39;00m \u001b[39mimport\u001b[39;00m create_random_state, create_py_random_state\n",
      "File \u001b[0;32m~/opt/anaconda3/lib/python3.9/site-packages/networkx/algorithms/centrality/betweenness.py:137\u001b[0m, in \u001b[0;36mbetweenness_centrality\u001b[0;34m(G, k, normalized, weight, endpoints, seed)\u001b[0m\n\u001b[1;32m    135\u001b[0m         betweenness, delta \u001b[39m=\u001b[39m _accumulate_endpoints(betweenness, S, P, sigma, s)\n\u001b[1;32m    136\u001b[0m     \u001b[39melse\u001b[39;00m:\n\u001b[0;32m--> 137\u001b[0m         betweenness, delta \u001b[39m=\u001b[39m _accumulate_basic(betweenness, S, P, sigma, s)\n\u001b[1;32m    138\u001b[0m \u001b[39m# rescaling\u001b[39;00m\n\u001b[1;32m    139\u001b[0m betweenness \u001b[39m=\u001b[39m _rescale(\n\u001b[1;32m    140\u001b[0m     betweenness,\n\u001b[1;32m    141\u001b[0m     \u001b[39mlen\u001b[39m(G),\n\u001b[0;32m   (...)\u001b[0m\n\u001b[1;32m    145\u001b[0m     endpoints\u001b[39m=\u001b[39mendpoints,\n\u001b[1;32m    146\u001b[0m )\n",
      "File \u001b[0;32m~/opt/anaconda3/lib/python3.9/site-packages/networkx/algorithms/centrality/betweenness.py:325\u001b[0m, in \u001b[0;36m_accumulate_basic\u001b[0;34m(betweenness, S, P, sigma, s)\u001b[0m\n\u001b[1;32m    323\u001b[0m         delta[v] \u001b[39m+\u001b[39m\u001b[39m=\u001b[39m sigma[v] \u001b[39m*\u001b[39m coeff\n\u001b[1;32m    324\u001b[0m     \u001b[39mif\u001b[39;00m w \u001b[39m!=\u001b[39m s:\n\u001b[0;32m--> 325\u001b[0m         betweenness[w] \u001b[39m+\u001b[39m\u001b[39m=\u001b[39m delta[w]\n\u001b[1;32m    326\u001b[0m \u001b[39mreturn\u001b[39;00m betweenness, delta\n",
      "\u001b[0;31mKeyboardInterrupt\u001b[0m: "
     ]
    }
   ],
   "source": [
    "b_cent = nx.betweenness_centrality(proj_G, k=1000)\n",
    "b_c_sorted = {k: v for k, v in sorted(b_cent.items(), key=lambda item: item[1], reverse=True)[:10]}\n",
    "b_c_sorted"
   ]
  },
  {
   "cell_type": "code",
   "execution_count": null,
   "metadata": {},
   "outputs": [
    {
     "data": {
      "text/plain": [
       "{'b207': 0.10243389721489354,\n",
       " 'b3507': 0.09613618789837088,\n",
       " 'b464': 0.0934118038436909,\n",
       " 'b1844': 0.09339342499654477,\n",
       " 'b1148': 0.09316314585504684,\n",
       " 'b4616': 0.09310729014323406,\n",
       " 'b6545': 0.09310219867850916,\n",
       " 'b2855': 0.09309980371432884,\n",
       " 'b2402': 0.09309980371432884,\n",
       " 'b2986': 0.09309980371432884}"
      ]
     },
     "execution_count": 43,
     "metadata": {},
     "output_type": "execute_result"
    }
   ],
   "source": [
    "#wtf are the endpoints about???\n",
    "# b_cent = nx.betweenness_centrality(proj_G, k=10, endpoints=True)\n",
    "# sortt = {k: v for k, v in sorted(b_cent.items(), key=lambda item: item[1], reverse=True)[:10]}\n",
    "# sortt"
   ]
  },
  {
   "cell_type": "code",
   "execution_count": null,
   "metadata": {},
   "outputs": [
    {
     "data": {
      "text/plain": [
       "{'b1569': 0.458894264608686,\n",
       " 'b4116': 0.4580496288783723,\n",
       " 'b1565': 0.4543049577318946,\n",
       " 'b4464': 0.4533693594031002,\n",
       " 'b1443': 0.4532257631217151,\n",
       " 'b11': 0.44692653724245646,\n",
       " 'b2840': 0.44346386940916865,\n",
       " 'b41': 0.4434295136709126,\n",
       " 'b29': 0.4430862488360536,\n",
       " 'b2845': 0.4424697095287678}"
      ]
     },
     "execution_count": 46,
     "metadata": {},
     "output_type": "execute_result"
    }
   ],
   "source": [
    "c_cent = nx.closeness_centrality(proj_G)\n",
    "c_c_sorted = {k: v for k, v in sorted(c_cent.items(), key=lambda item: item[1], reverse=True)[:10]}\n",
    "c_c_sorted"
   ]
  },
  {
   "cell_type": "code",
   "execution_count": null,
   "metadata": {},
   "outputs": [
    {
     "data": {
      "text/plain": [
       "{'b1565': 0.013598455816216623,\n",
       " 'b1569': 0.012474568281017584,\n",
       " 'b1443': 0.011956583863121584,\n",
       " 'b2470': 0.009671310782936936,\n",
       " 'b4464': 0.008882010760659056,\n",
       " 'b41': 0.00880038243596171,\n",
       " 'b2840': 0.008664170523458532,\n",
       " 'b4116': 0.008015315448894743,\n",
       " 'b2845': 0.00785101720944383,\n",
       " 'b11': 0.00731971008779024}"
      ]
     },
     "execution_count": 53,
     "metadata": {},
     "output_type": "execute_result"
    }
   ],
   "source": [
    "#the algorithm was designed for directed graph, but it gives us some idea of hubs\n",
    "hity = nx.hits(proj_G)\n",
    "hity = dict(hity[0])\n",
    "hits_sorted = {k: v for k, v in sorted(hity.items(), key=lambda item: item[1], reverse=True)[:10]}\n",
    "hits_sorted"
   ]
  },
  {
   "cell_type": "code",
   "execution_count": null,
   "metadata": {},
   "outputs": [
    {
     "ename": "NameError",
     "evalue": "name 'b_c_sorted' is not defined",
     "output_type": "error",
     "traceback": [
      "\u001b[0;31m---------------------------------------------------------------------------\u001b[0m",
      "\u001b[0;31mNameError\u001b[0m                                 Traceback (most recent call last)",
      "Cell \u001b[0;32mIn[65], line 7\u001b[0m\n\u001b[1;32m      1\u001b[0m \u001b[39m# hubs.append(sorttt.keys())\u001b[39;00m\n\u001b[1;32m      2\u001b[0m \u001b[39m# hubs.append(sortt.keys())\u001b[39;00m\n\u001b[1;32m      3\u001b[0m \u001b[39m# hubs.append(sortti.keys())\u001b[39;00m\n\u001b[1;32m      4\u001b[0m \u001b[39m# hubs.append(sorttid.keys())\u001b[39;00m\n\u001b[1;32m      5\u001b[0m \u001b[39m# hubs = sorttt.keys() + sortt.keys() + sortti.keys() + sorttid.keys()\u001b[39;00m\n\u001b[1;32m      6\u001b[0m \u001b[39m# hubs = set(hubs)\u001b[39;00m\n\u001b[0;32m----> 7\u001b[0m hubs \u001b[39m=\u001b[39m \u001b[39mlist\u001b[39m(b_c_sorted\u001b[39m.\u001b[39mkeys()) \u001b[39m+\u001b[39m \u001b[39mlist\u001b[39m(d_c_sorted\u001b[39m.\u001b[39mkeys()) \u001b[39m+\u001b[39m \u001b[39mlist\u001b[39m(c_c_sorted\u001b[39m.\u001b[39mkeys()) \u001b[39m+\u001b[39m \u001b[39mlist\u001b[39m(hits_sorted\u001b[39m.\u001b[39mkeys())\n\u001b[1;32m      8\u001b[0m hubs \u001b[39m=\u001b[39m \u001b[39mset\u001b[39m(hubs)\n\u001b[1;32m      9\u001b[0m hubs\n",
      "\u001b[0;31mNameError\u001b[0m: name 'b_c_sorted' is not defined"
     ]
    }
   ],
   "source": [
    "\n",
    "# hubs.append(sorttt.keys())\n",
    "# hubs.append(sortt.keys())\n",
    "# hubs.append(sortti.keys())\n",
    "# hubs.append(sorttid.keys())\n",
    "# hubs = sorttt.keys() + sortt.keys() + sortti.keys() + sorttid.keys()\n",
    "# hubs = set(hubs)\n",
    "hubs = list(b_c_sorted.keys()) + list(d_c_sorted.keys()) + list(c_c_sorted.keys()) + list(hits_sorted.keys())\n",
    "hubs = set(hubs)\n",
    "hubs"
   ]
  },
  {
   "cell_type": "code",
   "execution_count": null,
   "metadata": {},
   "outputs": [],
   "source": [
    "#Community Detection\n",
    "lab_prop = nx.community.label_propagation_communities(proj_G)\n",
    "modularity = nx.community.greedy_modularity_communities(proj_G)\n",
    "\n",
    "listed_lab = list(lab_prop)\n",
    "listed_lab.sort(key=len, reverse=True)"
   ]
  },
  {
   "cell_type": "code",
   "execution_count": null,
   "metadata": {},
   "outputs": [],
   "source": [
    "for i in range(12):\n",
    "    print(len(modularity[i]))\n",
    "\n",
    "print(\"_________________________\")\n",
    "\n",
    "for i in range(12):\n",
    "    print(len(listed_lab[i]))"
   ]
  }
 ],
 "metadata": {
  "kernelspec": {
   "display_name": "base",
   "language": "python",
   "name": "python3"
  },
  "language_info": {
   "codemirror_mode": {
    "name": "ipython",
    "version": 3
   },
   "file_extension": ".py",
   "mimetype": "text/x-python",
   "name": "python",
   "nbconvert_exporter": "python",
   "pygments_lexer": "ipython3",
   "version": "3.9.12"
  },
  "orig_nbformat": 4,
  "vscode": {
   "interpreter": {
    "hash": "56941cacf15e8b05765996006082865469347c2b4cdce983108d1335de8b4245"
   }
  }
 },
 "nbformat": 4,
 "nbformat_minor": 2
}
